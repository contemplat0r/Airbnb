{
 "cells": [
  {
   "cell_type": "code",
   "execution_count": 1,
   "metadata": {},
   "outputs": [],
   "source": [
    "import os\n",
    "import pathlib\n",
    "import time\n",
    "\n",
    "import numpy as np\n",
    "import pandas as pd\n",
    "import matplotlib.pyplot as plt\n",
    "import seaborn as sns"
   ]
  },
  {
   "cell_type": "code",
   "execution_count": 2,
   "metadata": {},
   "outputs": [],
   "source": [
    "%matplotlib inline"
   ]
  },
  {
   "cell_type": "code",
   "execution_count": 3,
   "metadata": {},
   "outputs": [
    {
     "name": "stdout",
     "output_type": "stream",
     "text": [
      "age_gender_bkts.csv\t   save\t\t   train_users_2.csv\r\n",
      "countries.csv\t\t   sessions.csv\r\n",
      "sample_submission_NDF.csv  test_users.csv\r\n"
     ]
    }
   ],
   "source": [
    "!ls ../input/"
   ]
  },
  {
   "cell_type": "code",
   "execution_count": 4,
   "metadata": {},
   "outputs": [],
   "source": [
    "def detect_nan_strings(df):\n",
    "    for column in df.columns:\n",
    "        print(\"\\n\\ncolumn: {}:\".format(column))\n",
    "        print(\"-\" * 20)\n",
    "        try:\n",
    "            print(\"is NAN string:\\n\", any(df[column] == 'NAN'))\n",
    "            print(\"is NAN string:\\n\", any(df[column] == 'nan'))\n",
    "            print(\"is NAN string:\\n\", any(df[column] == 'NaN'))\n",
    "        except TypeError:\n",
    "            print(\"column {} not str type\".format(column))"
   ]
  },
  {
   "cell_type": "code",
   "execution_count": 5,
   "metadata": {},
   "outputs": [],
   "source": [
    "def uniques_count(df):\n",
    "    return {column: df[column].groupby(by=df[column]).count() for column in df.columns}"
   ]
  },
  {
   "cell_type": "code",
   "execution_count": 6,
   "metadata": {},
   "outputs": [],
   "source": [
    "age_gender_df = pd.read_csv('../input/age_gender_bkts.csv')"
   ]
  },
  {
   "cell_type": "code",
   "execution_count": 7,
   "metadata": {},
   "outputs": [],
   "source": [
    "countries_df = pd.read_csv('../input/countries.csv')"
   ]
  },
  {
   "cell_type": "code",
   "execution_count": 8,
   "metadata": {},
   "outputs": [],
   "source": [
    "sessions_df = pd.read_csv('../input/sessions.csv')"
   ]
  },
  {
   "cell_type": "code",
   "execution_count": 9,
   "metadata": {},
   "outputs": [],
   "source": [
    "train_users_2_df = pd.read_csv('../input/train_users_2.csv')"
   ]
  },
  {
   "cell_type": "code",
   "execution_count": 10,
   "metadata": {},
   "outputs": [],
   "source": [
    "test_users_df = pd.read_csv('../input/test_users.csv')"
   ]
  },
  {
   "cell_type": "markdown",
   "metadata": {},
   "source": [
    "age_gender_df.info()"
   ]
  },
  {
   "cell_type": "markdown",
   "metadata": {},
   "source": [
    "age_gender_df.head()"
   ]
  },
  {
   "cell_type": "markdown",
   "metadata": {},
   "source": [
    "age_gender_df.describe()"
   ]
  },
  {
   "cell_type": "markdown",
   "metadata": {},
   "source": [
    "countries_df.info()"
   ]
  },
  {
   "cell_type": "markdown",
   "metadata": {},
   "source": [
    "countries_df"
   ]
  },
  {
   "cell_type": "markdown",
   "metadata": {},
   "source": [
    "sessions_df.info()"
   ]
  },
  {
   "cell_type": "markdown",
   "metadata": {},
   "source": [
    "sessions_df.head()"
   ]
  },
  {
   "cell_type": "markdown",
   "metadata": {},
   "source": [
    "sessions_df.describe()"
   ]
  },
  {
   "cell_type": "markdown",
   "metadata": {},
   "source": [
    "train_users_2_df.info()"
   ]
  },
  {
   "cell_type": "markdown",
   "metadata": {},
   "source": [
    "train_users_2_df.head()"
   ]
  },
  {
   "cell_type": "markdown",
   "metadata": {},
   "source": [
    "train_users_2_df.describe()"
   ]
  },
  {
   "cell_type": "code",
   "execution_count": 11,
   "metadata": {},
   "outputs": [],
   "source": [
    "sessions_df_not_na = sessions_df.notna()"
   ]
  },
  {
   "cell_type": "code",
   "execution_count": 12,
   "metadata": {},
   "outputs": [
    {
     "data": {
      "text/plain": [
       "(10567737, 6)"
      ]
     },
     "execution_count": 12,
     "metadata": {},
     "output_type": "execute_result"
    }
   ],
   "source": [
    "sessions_df.shape"
   ]
  },
  {
   "cell_type": "code",
   "execution_count": 13,
   "metadata": {},
   "outputs": [
    {
     "data": {
      "text/plain": [
       "(10567737, 6)"
      ]
     },
     "execution_count": 13,
     "metadata": {},
     "output_type": "execute_result"
    }
   ],
   "source": [
    "sessions_df.shape"
   ]
  },
  {
   "cell_type": "code",
   "execution_count": 14,
   "metadata": {},
   "outputs": [
    {
     "data": {
      "text/plain": [
       "user_id            34496\n",
       "action             79626\n",
       "action_type      1126204\n",
       "action_detail    1126204\n",
       "device_type            0\n",
       "secs_elapsed      136031\n",
       "dtype: int64"
      ]
     },
     "execution_count": 14,
     "metadata": {},
     "output_type": "execute_result"
    }
   ],
   "source": [
    "sessions_df.isna().sum()"
   ]
  },
  {
   "cell_type": "code",
   "execution_count": 15,
   "metadata": {},
   "outputs": [
    {
     "data": {
      "text/plain": [
       "user_id           0.326428\n",
       "action            0.753482\n",
       "action_type      10.657003\n",
       "action_detail    10.657003\n",
       "device_type       0.000000\n",
       "secs_elapsed      1.287229\n",
       "dtype: float64"
      ]
     },
     "execution_count": 15,
     "metadata": {},
     "output_type": "execute_result"
    }
   ],
   "source": [
    "sessions_df.isna().sum() / len(sessions_df) * 100"
   ]
  },
  {
   "cell_type": "markdown",
   "metadata": {},
   "source": [
    "for column in sessions_df.columns:\n",
    "    print(\"\\n\\ncolumn: {}:\".format(column))\n",
    "    print(\"-\" * 20)\n",
    "    print(\"value_counts:\\n\", sessions_df[column].value_counts())"
   ]
  },
  {
   "cell_type": "code",
   "execution_count": 16,
   "metadata": {},
   "outputs": [
    {
     "data": {
      "text/plain": [
       "(213451, 16)"
      ]
     },
     "execution_count": 16,
     "metadata": {},
     "output_type": "execute_result"
    }
   ],
   "source": [
    "train_users_2_df.shape"
   ]
  },
  {
   "cell_type": "code",
   "execution_count": 17,
   "metadata": {},
   "outputs": [
    {
     "data": {
      "text/plain": [
       "id                              0\n",
       "date_account_created            0\n",
       "timestamp_first_active          0\n",
       "date_first_booking         124543\n",
       "gender                          0\n",
       "age                         87990\n",
       "signup_method                   0\n",
       "signup_flow                     0\n",
       "language                        0\n",
       "affiliate_channel               0\n",
       "affiliate_provider              0\n",
       "first_affiliate_tracked      6065\n",
       "signup_app                      0\n",
       "first_device_type               0\n",
       "first_browser                   0\n",
       "country_destination             0\n",
       "dtype: int64"
      ]
     },
     "execution_count": 17,
     "metadata": {},
     "output_type": "execute_result"
    }
   ],
   "source": [
    "train_users_2_df.isna().sum()"
   ]
  },
  {
   "cell_type": "code",
   "execution_count": 18,
   "metadata": {},
   "outputs": [
    {
     "data": {
      "text/plain": [
       "id                          0.000000\n",
       "date_account_created        0.000000\n",
       "timestamp_first_active      0.000000\n",
       "date_first_booking         58.347349\n",
       "gender                      0.000000\n",
       "age                        41.222576\n",
       "signup_method               0.000000\n",
       "signup_flow                 0.000000\n",
       "language                    0.000000\n",
       "affiliate_channel           0.000000\n",
       "affiliate_provider          0.000000\n",
       "first_affiliate_tracked     2.841402\n",
       "signup_app                  0.000000\n",
       "first_device_type           0.000000\n",
       "first_browser               0.000000\n",
       "country_destination         0.000000\n",
       "dtype: float64"
      ]
     },
     "execution_count": 18,
     "metadata": {},
     "output_type": "execute_result"
    }
   ],
   "source": [
    "train_users_2_df.isna().sum() / len(train_users_2_df) * 100"
   ]
  },
  {
   "cell_type": "markdown",
   "metadata": {},
   "source": [
    "for column in train_users_2_df.columns:\n",
    "    print(\"\\n\\ncolumn: {}:\".format(column))\n",
    "    print(\"-\" * 20)\n",
    "    print(\"value_counts:\\n\", train_users_2_df[column].value_counts())"
   ]
  },
  {
   "cell_type": "code",
   "execution_count": 19,
   "metadata": {},
   "outputs": [],
   "source": [
    "sessions_df_unique_user_ids = set(sessions_df['user_id'].unique())"
   ]
  },
  {
   "cell_type": "code",
   "execution_count": 20,
   "metadata": {},
   "outputs": [],
   "source": [
    "train_users_2_df_unique_user_ids = set(train_users_2_df['id'].unique())"
   ]
  },
  {
   "cell_type": "code",
   "execution_count": 21,
   "metadata": {},
   "outputs": [
    {
     "data": {
      "text/plain": [
       "135484"
      ]
     },
     "execution_count": 21,
     "metadata": {},
     "output_type": "execute_result"
    }
   ],
   "source": [
    "len(sessions_df_unique_user_ids)"
   ]
  },
  {
   "cell_type": "code",
   "execution_count": 22,
   "metadata": {},
   "outputs": [
    {
     "data": {
      "text/plain": [
       "213451"
      ]
     },
     "execution_count": 22,
     "metadata": {},
     "output_type": "execute_result"
    }
   ],
   "source": [
    "len(train_users_2_df_unique_user_ids)"
   ]
  },
  {
   "cell_type": "code",
   "execution_count": 23,
   "metadata": {},
   "outputs": [
    {
     "data": {
      "text/plain": [
       "275120"
      ]
     },
     "execution_count": 23,
     "metadata": {},
     "output_type": "execute_result"
    }
   ],
   "source": [
    "len(sessions_df_unique_user_ids.union(train_users_2_df_unique_user_ids))"
   ]
  },
  {
   "cell_type": "code",
   "execution_count": 24,
   "metadata": {},
   "outputs": [
    {
     "data": {
      "text/plain": [
       "61669"
      ]
     },
     "execution_count": 24,
     "metadata": {},
     "output_type": "execute_result"
    }
   ],
   "source": [
    "len(sessions_df_unique_user_ids.difference(train_users_2_df_unique_user_ids))"
   ]
  },
  {
   "cell_type": "code",
   "execution_count": 25,
   "metadata": {},
   "outputs": [
    {
     "data": {
      "text/plain": [
       "139636"
      ]
     },
     "execution_count": 25,
     "metadata": {},
     "output_type": "execute_result"
    }
   ],
   "source": [
    "len(train_users_2_df_unique_user_ids.difference(sessions_df_unique_user_ids))"
   ]
  },
  {
   "cell_type": "code",
   "execution_count": 26,
   "metadata": {},
   "outputs": [
    {
     "data": {
      "text/plain": [
       "73815"
      ]
     },
     "execution_count": 26,
     "metadata": {},
     "output_type": "execute_result"
    }
   ],
   "source": [
    "len(train_users_2_df_unique_user_ids.intersection(sessions_df_unique_user_ids))"
   ]
  },
  {
   "cell_type": "markdown",
   "metadata": {},
   "source": [
    "Preliminary results:\n",
    "1. We can see that some columns in sessions data and users data have signficant numbers of NaN values.\n",
    "sessions:\n",
    "user_id           0.326428% (which is curious in itself)\n",
    "action            0.753482%\n",
    "action_type      10.657003%\n",
    "action_detail    10.657003%\n",
    "device_type       0.000000%\n",
    "secs_elapsed      1.287229%\n",
    "\n",
    "users:\n",
    "id                          0.000000%\n",
    "date_account_created        0.000000%\n",
    "timestamp_first_active      0.000000%\n",
    "date_first_booking         58.347349%\n",
    "gender                      0.000000%\n",
    "age                        41.222576%\n",
    "signup_method               0.000000%\n",
    "signup_flow                 0.000000%\n",
    "language                    0.000000%\n",
    "affiliate_channel           0.000000%\n",
    "affiliate_provider          0.000000%\n",
    "first_affiliate_tracked     2.841402%\n",
    "signup_app                  0.000000%\n",
    "first_device_type           0.000000%timestamp_first_active\n",
    "first_browser               0.000000%\n",
    "country_destination         0.000000%\n",
    "\n",
    "2. user_id column in sessions data contain 0.326428% NaNs, rows with will be deleted when we  will simultaneously use data from sessions and users datasets (or may be we find the way fill this values).\n",
    "3. Deciding what to do with the NaNs in columns action_type and action_detail (Delete or fill by average, mode or by values that we can retrieve using simple ML models) requires additional exploring, but now we delete this rows\n",
    "4. NaNs in secs_elapsed in session data we can fill by mean or mode.\n",
    "5. NaNs in first_affiliate_tracked in users data make sense delete or fill by mode.\n",
    "6. NaNs in date_first_booking requires additional exploring. Or delete whole column if additional exploring don't give result.\n",
    "7. Same for age column.\n",
    "8. It is also worth paying attention to the fact that the set of user IDs in sessions dataset and users dataset  do not match, but only intersect in some part of thes. There are users whose IDs are in session dataset  but not in users dataset, which\n",
    "strange.\n",
    "9. It is also worthwhile to look in more detail at the distribution of the number of unique values in each column of each dataset.\n",
    "10. Add columns with timestamps converted in datetime format."
   ]
  },
  {
   "cell_type": "code",
   "execution_count": 27,
   "metadata": {},
   "outputs": [
    {
     "name": "stdout",
     "output_type": "stream",
     "text": [
      "<class 'pandas.core.frame.DataFrame'>\n",
      "RangeIndex: 10567737 entries, 0 to 10567736\n",
      "Data columns (total 6 columns):\n",
      "user_id          object\n",
      "action           object\n",
      "action_type      object\n",
      "action_detail    object\n",
      "device_type      object\n",
      "secs_elapsed     float64\n",
      "dtypes: float64(1), object(5)\n",
      "memory usage: 483.8+ MB\n"
     ]
    }
   ],
   "source": [
    "sessions_df.info()"
   ]
  },
  {
   "cell_type": "code",
   "execution_count": 28,
   "metadata": {},
   "outputs": [
    {
     "data": {
      "text/html": [
       "<div>\n",
       "<style scoped>\n",
       "    .dataframe tbody tr th:only-of-type {\n",
       "        vertical-align: middle;\n",
       "    }\n",
       "\n",
       "    .dataframe tbody tr th {\n",
       "        vertical-align: top;\n",
       "    }\n",
       "\n",
       "    .dataframe thead th {\n",
       "        text-align: right;\n",
       "    }\n",
       "</style>\n",
       "<table border=\"1\" class=\"dataframe\">\n",
       "  <thead>\n",
       "    <tr style=\"text-align: right;\">\n",
       "      <th></th>\n",
       "      <th>id</th>\n",
       "      <th>date_account_created</th>\n",
       "      <th>timestamp_first_active</th>\n",
       "      <th>date_first_booking</th>\n",
       "      <th>gender</th>\n",
       "      <th>age</th>\n",
       "      <th>signup_method</th>\n",
       "      <th>signup_flow</th>\n",
       "      <th>language</th>\n",
       "      <th>affiliate_channel</th>\n",
       "      <th>affiliate_provider</th>\n",
       "      <th>first_affiliate_tracked</th>\n",
       "      <th>signup_app</th>\n",
       "      <th>first_device_type</th>\n",
       "      <th>first_browser</th>\n",
       "      <th>country_destination</th>\n",
       "    </tr>\n",
       "  </thead>\n",
       "  <tbody>\n",
       "    <tr>\n",
       "      <th>0</th>\n",
       "      <td>gxn3p5htnn</td>\n",
       "      <td>2010-06-28</td>\n",
       "      <td>20090319043255</td>\n",
       "      <td>NaN</td>\n",
       "      <td>-unknown-</td>\n",
       "      <td>NaN</td>\n",
       "      <td>facebook</td>\n",
       "      <td>0</td>\n",
       "      <td>en</td>\n",
       "      <td>direct</td>\n",
       "      <td>direct</td>\n",
       "      <td>untracked</td>\n",
       "      <td>Web</td>\n",
       "      <td>Mac Desktop</td>\n",
       "      <td>Chrome</td>\n",
       "      <td>NDF</td>\n",
       "    </tr>\n",
       "    <tr>\n",
       "      <th>1</th>\n",
       "      <td>820tgsjxq7</td>\n",
       "      <td>2011-05-25</td>\n",
       "      <td>20090523174809</td>\n",
       "      <td>NaN</td>\n",
       "      <td>MALE</td>\n",
       "      <td>38.0</td>\n",
       "      <td>facebook</td>\n",
       "      <td>0</td>\n",
       "      <td>en</td>\n",
       "      <td>seo</td>\n",
       "      <td>google</td>\n",
       "      <td>untracked</td>\n",
       "      <td>Web</td>\n",
       "      <td>Mac Desktop</td>\n",
       "      <td>Chrome</td>\n",
       "      <td>NDF</td>\n",
       "    </tr>\n",
       "    <tr>\n",
       "      <th>2</th>\n",
       "      <td>4ft3gnwmtx</td>\n",
       "      <td>2010-09-28</td>\n",
       "      <td>20090609231247</td>\n",
       "      <td>2010-08-02</td>\n",
       "      <td>FEMALE</td>\n",
       "      <td>56.0</td>\n",
       "      <td>basic</td>\n",
       "      <td>3</td>\n",
       "      <td>en</td>\n",
       "      <td>direct</td>\n",
       "      <td>direct</td>\n",
       "      <td>untracked</td>\n",
       "      <td>Web</td>\n",
       "      <td>Windows Desktop</td>\n",
       "      <td>IE</td>\n",
       "      <td>US</td>\n",
       "    </tr>\n",
       "    <tr>\n",
       "      <th>3</th>\n",
       "      <td>bjjt8pjhuk</td>\n",
       "      <td>2011-12-05</td>\n",
       "      <td>20091031060129</td>\n",
       "      <td>2012-09-08</td>\n",
       "      <td>FEMALE</td>\n",
       "      <td>42.0</td>\n",
       "      <td>facebook</td>\n",
       "      <td>0</td>\n",
       "      <td>en</td>\n",
       "      <td>direct</td>\n",
       "      <td>direct</td>\n",
       "      <td>untracked</td>\n",
       "      <td>Web</td>\n",
       "      <td>Mac Desktop</td>\n",
       "      <td>Firefox</td>\n",
       "      <td>other</td>\n",
       "    </tr>\n",
       "    <tr>\n",
       "      <th>4</th>\n",
       "      <td>87mebub9p4</td>\n",
       "      <td>2010-09-14</td>\n",
       "      <td>20091208061105</td>\n",
       "      <td>2010-02-18</td>\n",
       "      <td>-unknown-</td>\n",
       "      <td>41.0</td>\n",
       "      <td>basic</td>\n",
       "      <td>0</td>\n",
       "      <td>en</td>\n",
       "      <td>direct</td>\n",
       "      <td>direct</td>\n",
       "      <td>untracked</td>\n",
       "      <td>Web</td>\n",
       "      <td>Mac Desktop</td>\n",
       "      <td>Chrome</td>\n",
       "      <td>US</td>\n",
       "    </tr>\n",
       "  </tbody>\n",
       "</table>\n",
       "</div>"
      ],
      "text/plain": [
       "           id date_account_created  timestamp_first_active date_first_booking  \\\n",
       "0  gxn3p5htnn           2010-06-28          20090319043255                NaN   \n",
       "1  820tgsjxq7           2011-05-25          20090523174809                NaN   \n",
       "2  4ft3gnwmtx           2010-09-28          20090609231247         2010-08-02   \n",
       "3  bjjt8pjhuk           2011-12-05          20091031060129         2012-09-08   \n",
       "4  87mebub9p4           2010-09-14          20091208061105         2010-02-18   \n",
       "\n",
       "      gender   age signup_method  signup_flow language affiliate_channel  \\\n",
       "0  -unknown-   NaN      facebook            0       en            direct   \n",
       "1       MALE  38.0      facebook            0       en               seo   \n",
       "2     FEMALE  56.0         basic            3       en            direct   \n",
       "3     FEMALE  42.0      facebook            0       en            direct   \n",
       "4  -unknown-  41.0         basic            0       en            direct   \n",
       "\n",
       "  affiliate_provider first_affiliate_tracked signup_app first_device_type  \\\n",
       "0             direct               untracked        Web       Mac Desktop   \n",
       "1             google               untracked        Web       Mac Desktop   \n",
       "2             direct               untracked        Web   Windows Desktop   \n",
       "3             direct               untracked        Web       Mac Desktop   \n",
       "4             direct               untracked        Web       Mac Desktop   \n",
       "\n",
       "  first_browser country_destination  \n",
       "0        Chrome                 NDF  \n",
       "1        Chrome                 NDF  \n",
       "2            IE                  US  \n",
       "3       Firefox               other  \n",
       "4        Chrome                  US  "
      ]
     },
     "execution_count": 28,
     "metadata": {},
     "output_type": "execute_result"
    }
   ],
   "source": [
    "train_users_2_df.head()"
   ]
  },
  {
   "cell_type": "code",
   "execution_count": 29,
   "metadata": {},
   "outputs": [
    {
     "name": "stdout",
     "output_type": "stream",
     "text": [
      "<class 'pandas.core.frame.DataFrame'>\n",
      "RangeIndex: 213451 entries, 0 to 213450\n",
      "Data columns (total 16 columns):\n",
      "id                         213451 non-null object\n",
      "date_account_created       213451 non-null object\n",
      "timestamp_first_active     213451 non-null int64\n",
      "date_first_booking         88908 non-null object\n",
      "gender                     213451 non-null object\n",
      "age                        125461 non-null float64\n",
      "signup_method              213451 non-null object\n",
      "signup_flow                213451 non-null int64\n",
      "language                   213451 non-null object\n",
      "affiliate_channel          213451 non-null object\n",
      "affiliate_provider         213451 non-null object\n",
      "first_affiliate_tracked    207386 non-null object\n",
      "signup_app                 213451 non-null object\n",
      "first_device_type          213451 non-null object\n",
      "first_browser              213451 non-null object\n",
      "country_destination        213451 non-null object\n",
      "dtypes: float64(1), int64(2), object(13)\n",
      "memory usage: 26.1+ MB\n"
     ]
    }
   ],
   "source": [
    "train_users_2_df.info()"
   ]
  },
  {
   "cell_type": "code",
   "execution_count": 30,
   "metadata": {},
   "outputs": [
    {
     "data": {
      "text/html": [
       "<div>\n",
       "<style scoped>\n",
       "    .dataframe tbody tr th:only-of-type {\n",
       "        vertical-align: middle;\n",
       "    }\n",
       "\n",
       "    .dataframe tbody tr th {\n",
       "        vertical-align: top;\n",
       "    }\n",
       "\n",
       "    .dataframe thead th {\n",
       "        text-align: right;\n",
       "    }\n",
       "</style>\n",
       "<table border=\"1\" class=\"dataframe\">\n",
       "  <thead>\n",
       "    <tr style=\"text-align: right;\">\n",
       "      <th></th>\n",
       "      <th>user_id</th>\n",
       "      <th>action</th>\n",
       "      <th>action_type</th>\n",
       "      <th>action_detail</th>\n",
       "      <th>device_type</th>\n",
       "      <th>secs_elapsed</th>\n",
       "    </tr>\n",
       "  </thead>\n",
       "  <tbody>\n",
       "    <tr>\n",
       "      <th>0</th>\n",
       "      <td>d1mm9tcy42</td>\n",
       "      <td>lookup</td>\n",
       "      <td>NaN</td>\n",
       "      <td>NaN</td>\n",
       "      <td>Windows Desktop</td>\n",
       "      <td>319.0</td>\n",
       "    </tr>\n",
       "    <tr>\n",
       "      <th>1</th>\n",
       "      <td>d1mm9tcy42</td>\n",
       "      <td>search_results</td>\n",
       "      <td>click</td>\n",
       "      <td>view_search_results</td>\n",
       "      <td>Windows Desktop</td>\n",
       "      <td>67753.0</td>\n",
       "    </tr>\n",
       "    <tr>\n",
       "      <th>2</th>\n",
       "      <td>d1mm9tcy42</td>\n",
       "      <td>lookup</td>\n",
       "      <td>NaN</td>\n",
       "      <td>NaN</td>\n",
       "      <td>Windows Desktop</td>\n",
       "      <td>301.0</td>\n",
       "    </tr>\n",
       "    <tr>\n",
       "      <th>3</th>\n",
       "      <td>d1mm9tcy42</td>\n",
       "      <td>search_results</td>\n",
       "      <td>click</td>\n",
       "      <td>view_search_results</td>\n",
       "      <td>Windows Desktop</td>\n",
       "      <td>22141.0</td>\n",
       "    </tr>\n",
       "    <tr>\n",
       "      <th>4</th>\n",
       "      <td>d1mm9tcy42</td>\n",
       "      <td>lookup</td>\n",
       "      <td>NaN</td>\n",
       "      <td>NaN</td>\n",
       "      <td>Windows Desktop</td>\n",
       "      <td>435.0</td>\n",
       "    </tr>\n",
       "  </tbody>\n",
       "</table>\n",
       "</div>"
      ],
      "text/plain": [
       "      user_id          action action_type        action_detail  \\\n",
       "0  d1mm9tcy42          lookup         NaN                  NaN   \n",
       "1  d1mm9tcy42  search_results       click  view_search_results   \n",
       "2  d1mm9tcy42          lookup         NaN                  NaN   \n",
       "3  d1mm9tcy42  search_results       click  view_search_results   \n",
       "4  d1mm9tcy42          lookup         NaN                  NaN   \n",
       "\n",
       "       device_type  secs_elapsed  \n",
       "0  Windows Desktop         319.0  \n",
       "1  Windows Desktop       67753.0  \n",
       "2  Windows Desktop         301.0  \n",
       "3  Windows Desktop       22141.0  \n",
       "4  Windows Desktop         435.0  "
      ]
     },
     "execution_count": 30,
     "metadata": {},
     "output_type": "execute_result"
    }
   ],
   "source": [
    "sessions_df.head()"
   ]
  },
  {
   "cell_type": "code",
   "execution_count": 31,
   "metadata": {},
   "outputs": [
    {
     "data": {
      "text/plain": [
       "user_id          10533241\n",
       "action           10488111\n",
       "action_type       9441533\n",
       "action_detail     9441533\n",
       "device_type      10567737\n",
       "secs_elapsed     10431706\n",
       "dtype: int64"
      ]
     },
     "execution_count": 31,
     "metadata": {},
     "output_type": "execute_result"
    }
   ],
   "source": [
    "sessions_df.count()"
   ]
  },
  {
   "cell_type": "code",
   "execution_count": 32,
   "metadata": {},
   "outputs": [],
   "source": [
    "#train_users_2_df['timestamp_first_active_as_dt'] = train_users_2_df['timestamp_first_active'].astype(np.datetime64)"
   ]
  },
  {
   "cell_type": "code",
   "execution_count": 33,
   "metadata": {},
   "outputs": [
    {
     "data": {
      "text/html": [
       "<div>\n",
       "<style scoped>\n",
       "    .dataframe tbody tr th:only-of-type {\n",
       "        vertical-align: middle;\n",
       "    }\n",
       "\n",
       "    .dataframe tbody tr th {\n",
       "        vertical-align: top;\n",
       "    }\n",
       "\n",
       "    .dataframe thead th {\n",
       "        text-align: right;\n",
       "    }\n",
       "</style>\n",
       "<table border=\"1\" class=\"dataframe\">\n",
       "  <thead>\n",
       "    <tr style=\"text-align: right;\">\n",
       "      <th></th>\n",
       "      <th>id</th>\n",
       "      <th>date_account_created</th>\n",
       "      <th>timestamp_first_active</th>\n",
       "      <th>date_first_booking</th>\n",
       "      <th>gender</th>\n",
       "      <th>age</th>\n",
       "      <th>signup_method</th>\n",
       "      <th>signup_flow</th>\n",
       "      <th>language</th>\n",
       "      <th>affiliate_channel</th>\n",
       "      <th>affiliate_provider</th>\n",
       "      <th>first_affiliate_tracked</th>\n",
       "      <th>signup_app</th>\n",
       "      <th>first_device_type</th>\n",
       "      <th>first_browser</th>\n",
       "      <th>country_destination</th>\n",
       "    </tr>\n",
       "  </thead>\n",
       "  <tbody>\n",
       "    <tr>\n",
       "      <th>0</th>\n",
       "      <td>gxn3p5htnn</td>\n",
       "      <td>2010-06-28</td>\n",
       "      <td>20090319043255</td>\n",
       "      <td>NaN</td>\n",
       "      <td>-unknown-</td>\n",
       "      <td>NaN</td>\n",
       "      <td>facebook</td>\n",
       "      <td>0</td>\n",
       "      <td>en</td>\n",
       "      <td>direct</td>\n",
       "      <td>direct</td>\n",
       "      <td>untracked</td>\n",
       "      <td>Web</td>\n",
       "      <td>Mac Desktop</td>\n",
       "      <td>Chrome</td>\n",
       "      <td>NDF</td>\n",
       "    </tr>\n",
       "    <tr>\n",
       "      <th>1</th>\n",
       "      <td>820tgsjxq7</td>\n",
       "      <td>2011-05-25</td>\n",
       "      <td>20090523174809</td>\n",
       "      <td>NaN</td>\n",
       "      <td>MALE</td>\n",
       "      <td>38.0</td>\n",
       "      <td>facebook</td>\n",
       "      <td>0</td>\n",
       "      <td>en</td>\n",
       "      <td>seo</td>\n",
       "      <td>google</td>\n",
       "      <td>untracked</td>\n",
       "      <td>Web</td>\n",
       "      <td>Mac Desktop</td>\n",
       "      <td>Chrome</td>\n",
       "      <td>NDF</td>\n",
       "    </tr>\n",
       "    <tr>\n",
       "      <th>2</th>\n",
       "      <td>4ft3gnwmtx</td>\n",
       "      <td>2010-09-28</td>\n",
       "      <td>20090609231247</td>\n",
       "      <td>2010-08-02</td>\n",
       "      <td>FEMALE</td>\n",
       "      <td>56.0</td>\n",
       "      <td>basic</td>\n",
       "      <td>3</td>\n",
       "      <td>en</td>\n",
       "      <td>direct</td>\n",
       "      <td>direct</td>\n",
       "      <td>untracked</td>\n",
       "      <td>Web</td>\n",
       "      <td>Windows Desktop</td>\n",
       "      <td>IE</td>\n",
       "      <td>US</td>\n",
       "    </tr>\n",
       "    <tr>\n",
       "      <th>3</th>\n",
       "      <td>bjjt8pjhuk</td>\n",
       "      <td>2011-12-05</td>\n",
       "      <td>20091031060129</td>\n",
       "      <td>2012-09-08</td>\n",
       "      <td>FEMALE</td>\n",
       "      <td>42.0</td>\n",
       "      <td>facebook</td>\n",
       "      <td>0</td>\n",
       "      <td>en</td>\n",
       "      <td>direct</td>\n",
       "      <td>direct</td>\n",
       "      <td>untracked</td>\n",
       "      <td>Web</td>\n",
       "      <td>Mac Desktop</td>\n",
       "      <td>Firefox</td>\n",
       "      <td>other</td>\n",
       "    </tr>\n",
       "    <tr>\n",
       "      <th>4</th>\n",
       "      <td>87mebub9p4</td>\n",
       "      <td>2010-09-14</td>\n",
       "      <td>20091208061105</td>\n",
       "      <td>2010-02-18</td>\n",
       "      <td>-unknown-</td>\n",
       "      <td>41.0</td>\n",
       "      <td>basic</td>\n",
       "      <td>0</td>\n",
       "      <td>en</td>\n",
       "      <td>direct</td>\n",
       "      <td>direct</td>\n",
       "      <td>untracked</td>\n",
       "      <td>Web</td>\n",
       "      <td>Mac Desktop</td>\n",
       "      <td>Chrome</td>\n",
       "      <td>US</td>\n",
       "    </tr>\n",
       "  </tbody>\n",
       "</table>\n",
       "</div>"
      ],
      "text/plain": [
       "           id date_account_created  timestamp_first_active date_first_booking  \\\n",
       "0  gxn3p5htnn           2010-06-28          20090319043255                NaN   \n",
       "1  820tgsjxq7           2011-05-25          20090523174809                NaN   \n",
       "2  4ft3gnwmtx           2010-09-28          20090609231247         2010-08-02   \n",
       "3  bjjt8pjhuk           2011-12-05          20091031060129         2012-09-08   \n",
       "4  87mebub9p4           2010-09-14          20091208061105         2010-02-18   \n",
       "\n",
       "      gender   age signup_method  signup_flow language affiliate_channel  \\\n",
       "0  -unknown-   NaN      facebook            0       en            direct   \n",
       "1       MALE  38.0      facebook            0       en               seo   \n",
       "2     FEMALE  56.0         basic            3       en            direct   \n",
       "3     FEMALE  42.0      facebook            0       en            direct   \n",
       "4  -unknown-  41.0         basic            0       en            direct   \n",
       "\n",
       "  affiliate_provider first_affiliate_tracked signup_app first_device_type  \\\n",
       "0             direct               untracked        Web       Mac Desktop   \n",
       "1             google               untracked        Web       Mac Desktop   \n",
       "2             direct               untracked        Web   Windows Desktop   \n",
       "3             direct               untracked        Web       Mac Desktop   \n",
       "4             direct               untracked        Web       Mac Desktop   \n",
       "\n",
       "  first_browser country_destination  \n",
       "0        Chrome                 NDF  \n",
       "1        Chrome                 NDF  \n",
       "2            IE                  US  \n",
       "3       Firefox               other  \n",
       "4        Chrome                  US  "
      ]
     },
     "execution_count": 33,
     "metadata": {},
     "output_type": "execute_result"
    }
   ],
   "source": [
    "train_users_2_df.head()"
   ]
  },
  {
   "cell_type": "code",
   "execution_count": 34,
   "metadata": {},
   "outputs": [],
   "source": [
    "sessions_uniques_count = uniques_count(sessions_df)"
   ]
  },
  {
   "cell_type": "markdown",
   "metadata": {},
   "source": [
    "for key, value in sessions_uniques_count.items():\n",
    "    print(\"\\n\", key)\n",
    "    print(\"-\" * 20)\n",
    "    print(value)"
   ]
  },
  {
   "cell_type": "code",
   "execution_count": 35,
   "metadata": {},
   "outputs": [
    {
     "data": {
      "text/plain": [
       "False"
      ]
     },
     "execution_count": 35,
     "metadata": {},
     "output_type": "execute_result"
    }
   ],
   "source": [
    "#isinstance(train_users_2_df.signup_method.dtype, np.object)\n",
    "isinstance(train_users_2_df.age.dtype, np.float64)"
   ]
  },
  {
   "cell_type": "code",
   "execution_count": 36,
   "metadata": {},
   "outputs": [
    {
     "data": {
      "text/plain": [
       "dtype('float64')"
      ]
     },
     "execution_count": 36,
     "metadata": {},
     "output_type": "execute_result"
    }
   ],
   "source": [
    "train_users_2_df.age.dtype"
   ]
  },
  {
   "cell_type": "code",
   "execution_count": 37,
   "metadata": {},
   "outputs": [
    {
     "data": {
      "text/plain": [
       "False"
      ]
     },
     "execution_count": 37,
     "metadata": {},
     "output_type": "execute_result"
    }
   ],
   "source": [
    "train_users_2_df.age.dtype == np.object"
   ]
  },
  {
   "cell_type": "code",
   "execution_count": 38,
   "metadata": {},
   "outputs": [],
   "source": [
    "session_actions = sessions_df.action"
   ]
  },
  {
   "cell_type": "code",
   "execution_count": 39,
   "metadata": {},
   "outputs": [],
   "source": [
    "sa_v_counts = session_actions.value_counts()"
   ]
  },
  {
   "cell_type": "code",
   "execution_count": 40,
   "metadata": {},
   "outputs": [
    {
     "data": {
      "text/plain": [
       "show              2768278\n",
       "index              843699\n",
       "search_results     725226\n",
       "personalize        706824\n",
       "search             536057\n",
       "Name: action, dtype: int64"
      ]
     },
     "execution_count": 40,
     "metadata": {},
     "output_type": "execute_result"
    }
   ],
   "source": [
    "sa_v_counts.head()"
   ]
  },
  {
   "cell_type": "code",
   "execution_count": 41,
   "metadata": {},
   "outputs": [],
   "source": [
    "\n",
    "#session_actions."
   ]
  },
  {
   "cell_type": "code",
   "execution_count": null,
   "metadata": {},
   "outputs": [],
   "source": []
  },
  {
   "cell_type": "markdown",
   "metadata": {},
   "source": [
    "fig = plt.figure(figsize= (24, 18))\n",
    "ax = fig.add_subplot(111)\n",
    "ax.hist(session_actions.value_counts()[:100], bins=10)\n",
    "#ax.bar(sa_v_counts.index, sa_v_counts.values)\n",
    "ax.set_xlabel(\"action\")\n",
    "ax.set_ylabel(\"number\")\n",
    "ax.set_title(\"action hist\")\n",
    "\n",
    "\n",
    "#ax.hist(train_users_2_df.timestamp_first_active.values)\n",
    "plt.show()"
   ]
  },
  {
   "cell_type": "code",
   "execution_count": 42,
   "metadata": {},
   "outputs": [
    {
     "data": {
      "text/plain": [
       "Index(['show', 'index', 'search_results', 'personalize', 'search',\n",
       "       'ajax_refresh_subtotal', 'update', 'similar_listings',\n",
       "       'social_connections', 'reviews',\n",
       "       ...\n",
       "       'update_message', 'wishlists', 'acculynk_bin_check_failed',\n",
       "       'host_cancel', 'set_minimum_payout_amount', 'deauthorize', 'nyan',\n",
       "       'desks', 'deactivated', 'deactivate'],\n",
       "      dtype='object', length=359)"
      ]
     },
     "execution_count": 42,
     "metadata": {},
     "output_type": "execute_result"
    }
   ],
   "source": [
    "sa_v_counts.index"
   ]
  },
  {
   "cell_type": "code",
   "execution_count": 43,
   "metadata": {},
   "outputs": [],
   "source": [
    "#train_users_2_df.timestamp_first_active.hist()"
   ]
  },
  {
   "cell_type": "code",
   "execution_count": 44,
   "metadata": {},
   "outputs": [],
   "source": [
    "#del ax"
   ]
  },
  {
   "cell_type": "code",
   "execution_count": 45,
   "metadata": {},
   "outputs": [],
   "source": [
    "#del fig"
   ]
  },
  {
   "cell_type": "markdown",
   "metadata": {},
   "source": [
    "fig2 = plt.figure(figsize=(24, 18))\n",
    "ax2 = fig2.add_subplot(111)\n",
    "ax2.hist(train_users_2_df.timestamp_first_active.values, bins=60)\n",
    "#ax2.plot([1, 2, 3, 4], [5, 6, 7 , 8])\n",
    "ax2.set_xlabel(\"action\")\n",
    "ax2.set_ylabel(\"number\")\n",
    "ax2.set_title(\"action hist\")\n",
    "#ax.hist(session_actions.value_counts(), bins=10)\n",
    "#ax.bar(sa_v_counts.index, sa_v_counts.values)\n",
    "\n",
    "plt.show()"
   ]
  },
  {
   "cell_type": "code",
   "execution_count": 46,
   "metadata": {},
   "outputs": [],
   "source": [
    "#del ax2\n",
    "#del fig2"
   ]
  },
  {
   "cell_type": "code",
   "execution_count": 47,
   "metadata": {},
   "outputs": [],
   "source": [
    "#cleaned_sessions_df = sessions_df[sessions_df['user_id'] == np.NaN]\n",
    "cleaned_sessions_df = sessions_df.dropna(subset=('user_id',))"
   ]
  },
  {
   "cell_type": "code",
   "execution_count": 48,
   "metadata": {},
   "outputs": [
    {
     "name": "stdout",
     "output_type": "stream",
     "text": [
      "(10567737, 6)\n"
     ]
    }
   ],
   "source": [
    "print(sessions_df.shape)"
   ]
  },
  {
   "cell_type": "code",
   "execution_count": 49,
   "metadata": {},
   "outputs": [
    {
     "name": "stdout",
     "output_type": "stream",
     "text": [
      "(10533241, 6)\n"
     ]
    }
   ],
   "source": [
    "print(cleaned_sessions_df.shape)"
   ]
  },
  {
   "cell_type": "code",
   "execution_count": 50,
   "metadata": {},
   "outputs": [
    {
     "data": {
      "text/plain": [
       "True"
      ]
     },
     "execution_count": 50,
     "metadata": {},
     "output_type": "execute_result"
    }
   ],
   "source": [
    "sessions_df.shape[0] - cleaned_sessions_df.shape[0] == sessions_df['user_id'].isna().sum()"
   ]
  },
  {
   "cell_type": "code",
   "execution_count": 51,
   "metadata": {},
   "outputs": [],
   "source": [
    "action_count = sessions_df['action'].groupby(by=sessions_df['action']).count()"
   ]
  },
  {
   "cell_type": "code",
   "execution_count": 52,
   "metadata": {},
   "outputs": [
    {
     "data": {
      "text/plain": [
       "0    2\n",
       "dtype: int64"
      ]
     },
     "execution_count": 52,
     "metadata": {},
     "output_type": "execute_result"
    }
   ],
   "source": [
    "action_count.mode()"
   ]
  },
  {
   "cell_type": "code",
   "execution_count": 53,
   "metadata": {},
   "outputs": [
    {
     "data": {
      "text/plain": [
       "2768278"
      ]
     },
     "execution_count": 53,
     "metadata": {},
     "output_type": "execute_result"
    }
   ],
   "source": [
    "action_count.max()"
   ]
  },
  {
   "cell_type": "code",
   "execution_count": 54,
   "metadata": {},
   "outputs": [],
   "source": [
    "action_count_sorted =action_count.sort_values()"
   ]
  },
  {
   "cell_type": "code",
   "execution_count": 55,
   "metadata": {},
   "outputs": [
    {
     "data": {
      "text/plain": [
       "action\n",
       "search             536057\n",
       "personalize        706824\n",
       "search_results     725226\n",
       "index              843699\n",
       "show              2768278\n",
       "Name: action, dtype: int64"
      ]
     },
     "execution_count": 55,
     "metadata": {},
     "output_type": "execute_result"
    }
   ],
   "source": [
    "action_count_sorted.tail()"
   ]
  },
  {
   "cell_type": "code",
   "execution_count": 56,
   "metadata": {},
   "outputs": [],
   "source": [
    "cleaned_sessions_df.fillna?"
   ]
  },
  {
   "cell_type": "code",
   "execution_count": 57,
   "metadata": {},
   "outputs": [],
   "source": [
    "cleaned_sessions_df.fillna(value={'action': 2768278}, inplace=True)"
   ]
  },
  {
   "cell_type": "code",
   "execution_count": 58,
   "metadata": {},
   "outputs": [
    {
     "data": {
      "text/plain": [
       "False"
      ]
     },
     "execution_count": 58,
     "metadata": {},
     "output_type": "execute_result"
    }
   ],
   "source": [
    "any(cleaned_sessions_df['action'].isna())"
   ]
  },
  {
   "cell_type": "markdown",
   "metadata": {},
   "source": [
    "Consider more rows containing NaNs in action_type and action_detail"
   ]
  },
  {
   "cell_type": "code",
   "execution_count": 59,
   "metadata": {},
   "outputs": [],
   "source": [
    "act_det_nans_df = sessions_df[sessions_df['action_detail'].isna()]"
   ]
  },
  {
   "cell_type": "code",
   "execution_count": 60,
   "metadata": {},
   "outputs": [
    {
     "data": {
      "text/plain": [
       "(1126204, 6)"
      ]
     },
     "execution_count": 60,
     "metadata": {},
     "output_type": "execute_result"
    }
   ],
   "source": [
    "act_det_nans_df.shape"
   ]
  },
  {
   "cell_type": "code",
   "execution_count": 61,
   "metadata": {},
   "outputs": [
    {
     "data": {
      "text/html": [
       "<div>\n",
       "<style scoped>\n",
       "    .dataframe tbody tr th:only-of-type {\n",
       "        vertical-align: middle;\n",
       "    }\n",
       "\n",
       "    .dataframe tbody tr th {\n",
       "        vertical-align: top;\n",
       "    }\n",
       "\n",
       "    .dataframe thead th {\n",
       "        text-align: right;\n",
       "    }\n",
       "</style>\n",
       "<table border=\"1\" class=\"dataframe\">\n",
       "  <thead>\n",
       "    <tr style=\"text-align: right;\">\n",
       "      <th></th>\n",
       "      <th>user_id</th>\n",
       "      <th>action</th>\n",
       "      <th>action_type</th>\n",
       "      <th>action_detail</th>\n",
       "      <th>device_type</th>\n",
       "      <th>secs_elapsed</th>\n",
       "    </tr>\n",
       "  </thead>\n",
       "  <tbody>\n",
       "    <tr>\n",
       "      <th>0</th>\n",
       "      <td>d1mm9tcy42</td>\n",
       "      <td>lookup</td>\n",
       "      <td>NaN</td>\n",
       "      <td>NaN</td>\n",
       "      <td>Windows Desktop</td>\n",
       "      <td>319.0</td>\n",
       "    </tr>\n",
       "    <tr>\n",
       "      <th>2</th>\n",
       "      <td>d1mm9tcy42</td>\n",
       "      <td>lookup</td>\n",
       "      <td>NaN</td>\n",
       "      <td>NaN</td>\n",
       "      <td>Windows Desktop</td>\n",
       "      <td>301.0</td>\n",
       "    </tr>\n",
       "    <tr>\n",
       "      <th>4</th>\n",
       "      <td>d1mm9tcy42</td>\n",
       "      <td>lookup</td>\n",
       "      <td>NaN</td>\n",
       "      <td>NaN</td>\n",
       "      <td>Windows Desktop</td>\n",
       "      <td>435.0</td>\n",
       "    </tr>\n",
       "    <tr>\n",
       "      <th>6</th>\n",
       "      <td>d1mm9tcy42</td>\n",
       "      <td>lookup</td>\n",
       "      <td>NaN</td>\n",
       "      <td>NaN</td>\n",
       "      <td>Windows Desktop</td>\n",
       "      <td>115.0</td>\n",
       "    </tr>\n",
       "    <tr>\n",
       "      <th>9</th>\n",
       "      <td>d1mm9tcy42</td>\n",
       "      <td>lookup</td>\n",
       "      <td>NaN</td>\n",
       "      <td>NaN</td>\n",
       "      <td>Windows Desktop</td>\n",
       "      <td>683.0</td>\n",
       "    </tr>\n",
       "  </tbody>\n",
       "</table>\n",
       "</div>"
      ],
      "text/plain": [
       "      user_id  action action_type action_detail      device_type  secs_elapsed\n",
       "0  d1mm9tcy42  lookup         NaN           NaN  Windows Desktop         319.0\n",
       "2  d1mm9tcy42  lookup         NaN           NaN  Windows Desktop         301.0\n",
       "4  d1mm9tcy42  lookup         NaN           NaN  Windows Desktop         435.0\n",
       "6  d1mm9tcy42  lookup         NaN           NaN  Windows Desktop         115.0\n",
       "9  d1mm9tcy42  lookup         NaN           NaN  Windows Desktop         683.0"
      ]
     },
     "execution_count": 61,
     "metadata": {},
     "output_type": "execute_result"
    }
   ],
   "source": [
    "act_det_nans_df.head()"
   ]
  },
  {
   "cell_type": "code",
   "execution_count": 62,
   "metadata": {},
   "outputs": [
    {
     "name": "stdout",
     "output_type": "stream",
     "text": [
      "\n",
      "\n",
      " user_id\n",
      "------------------------------\n",
      "user_id\n",
      "00023iyk9l      3\n",
      "0010k6l0om     15\n",
      "001wyh0pz8      5\n",
      "002qnbzfs5     77\n",
      "0035hobuyj    171\n",
      "00378ocvlh      4\n",
      "00389675gq     14\n",
      "003iamz20l      6\n",
      "0048rkdgb1      1\n",
      "005jc3nbmb      1\n",
      "005v5uf4dh      1\n",
      "0063bawn05      2\n",
      "006ml14zc1      3\n",
      "006mls2sjw     42\n",
      "006t3vhawl      1\n",
      "0075z9e9xv     79\n",
      "009a40t3dk      2\n",
      "00a8dbifj8     11\n",
      "00an0o6c07      2\n",
      "00b9hfwaak     10\n",
      "00bn6hu437      1\n",
      "00bowi9sn3      1\n",
      "00bxmflswn      4\n",
      "00cdlcsaxu      2\n",
      "00cu8ilsh0     27\n",
      "00dj8as8yl      2\n",
      "00du2h6jcx      4\n",
      "00e4nxhdvv     25\n",
      "00ep2pem90      1\n",
      "00epe0uaxo      6\n",
      "             ... \n",
      "zzlwz6avyg      4\n",
      "zzmiifrmxm      5\n",
      "zzn5ittlxb    148\n",
      "zznbshw5p7      2\n",
      "zzngxvqfm5     14\n",
      "zzoweugiba     13\n",
      "zzoxgcuxxj      1\n",
      "zzq3qpp9av      8\n",
      "zzq55plahq      5\n",
      "zzq90ckj2z      1\n",
      "zzqb2sn066      1\n",
      "zzr1rkdsh9     14\n",
      "zzrnx9rqi5      8\n",
      "zzsslqqkee      1\n",
      "zzswqjsqy4      8\n",
      "zzt5gpsyqa     11\n",
      "zzt8w28nl5     47\n",
      "zztkv1gkse      4\n",
      "zzu3u71odh     20\n",
      "zzunwylrfv     24\n",
      "zzv6z6rjr9     13\n",
      "zzv8sgicbk      2\n",
      "zzvatt4dio     90\n",
      "zzvg4emw5w     28\n",
      "zzx0hfd74v      4\n",
      "zzx5wp3lqu      2\n",
      "zzxox7jnrx     17\n",
      "zzy7t0y9cm      1\n",
      "zzywmcn0jv      8\n",
      "zzzlylp57e      6\n",
      "Name: user_id, Length: 101102, dtype: int64\n",
      "\n",
      "\n",
      " action\n",
      "------------------------------\n",
      "action\n",
      "braintree_client_token       120\n",
      "campaigns                 104709\n",
      "check                        120\n",
      "currencies                   292\n",
      "disaster_action                6\n",
      "index                      16733\n",
      "localization_settings       5403\n",
      "lookup                    162041\n",
      "phone_verification            16\n",
      "satisfy                        9\n",
      "show                      582144\n",
      "signed_out_modal            1058\n",
      "similar_listings_v2       168788\n",
      "track_activity                 6\n",
      "track_page_view            81117\n",
      "update                       225\n",
      "uptodate                    3342\n",
      "widget                        75\n",
      "Name: action, dtype: int64\n",
      "\n",
      "\n",
      " device_type\n",
      "------------------------------\n",
      "device_type\n",
      "-unknown-                             4920\n",
      "Android App Unknown Phone/Tablet     19693\n",
      "Android Phone                        34112\n",
      "Blackberry                              11\n",
      "Chromebook                            3025\n",
      "Linux Desktop                         3126\n",
      "Mac Desktop                         495104\n",
      "Opera Phone                              5\n",
      "Tablet                               10422\n",
      "Windows Desktop                     350619\n",
      "Windows Phone                           81\n",
      "iPad Tablet                          78322\n",
      "iPhone                              126292\n",
      "iPodtouch                              472\n",
      "Name: device_type, dtype: int64\n",
      "\n",
      "\n",
      " secs_elapsed\n",
      "------------------------------\n",
      "secs_elapsed\n",
      "0.0          9089\n",
      "1.0          4377\n",
      "2.0          4501\n",
      "3.0          4449\n",
      "4.0          4239\n",
      "5.0          4453\n",
      "6.0          4446\n",
      "7.0          4517\n",
      "8.0          4544\n",
      "9.0          4510\n",
      "10.0         4519\n",
      "11.0         4593\n",
      "12.0         4687\n",
      "13.0         4594\n",
      "14.0         4802\n",
      "15.0         4752\n",
      "16.0         4831\n",
      "17.0         4899\n",
      "18.0         4972\n",
      "19.0         5073\n",
      "20.0         5115\n",
      "21.0         5179\n",
      "22.0         5071\n",
      "23.0         5421\n",
      "24.0         5411\n",
      "25.0         5356\n",
      "26.0         5494\n",
      "27.0         5679\n",
      "28.0         5887\n",
      "29.0         5908\n",
      "             ... \n",
      "1781482.0       1\n",
      "1783124.0       1\n",
      "1783170.0       1\n",
      "1783406.0       1\n",
      "1783660.0       1\n",
      "1784707.0       1\n",
      "1784982.0       1\n",
      "1785383.0       1\n",
      "1785946.0       1\n",
      "1786503.0       1\n",
      "1787815.0       1\n",
      "1788734.0       1\n",
      "1788782.0       1\n",
      "1789219.0       1\n",
      "1789510.0       1\n",
      "1790195.0       1\n",
      "1793136.0       1\n",
      "1793362.0       1\n",
      "1793395.0       1\n",
      "1793605.0       1\n",
      "1794290.0       1\n",
      "1794419.0       1\n",
      "1795191.0       1\n",
      "1795859.0       1\n",
      "1796221.0       1\n",
      "1796353.0       1\n",
      "1796490.0       1\n",
      "1797606.0       1\n",
      "1798671.0       1\n",
      "1799326.0       1\n",
      "Name: secs_elapsed, Length: 66180, dtype: int64\n"
     ]
    }
   ],
   "source": [
    "vc_dict = {}\n",
    "for column in act_det_nans_df.columns.drop(['action_type', 'action_detail']):\n",
    "    print(\"\\n\\n\", column)\n",
    "    print(\"-\" * 30)\n",
    "    values_count = act_det_nans_df[column].groupby(by=act_det_nans_df[column]).count()\n",
    "    vc_dict[column] = values_count\n",
    "    print(values_count)"
   ]
  },
  {
   "cell_type": "code",
   "execution_count": 63,
   "metadata": {},
   "outputs": [],
   "source": [
    "act_det_not_nans_df = sessions_df[sessions_df['action_detail'].notna()]"
   ]
  },
  {
   "cell_type": "code",
   "execution_count": 64,
   "metadata": {},
   "outputs": [],
   "source": [
    "act_det_nans_values_count = uniques_count(act_det_nans_df)"
   ]
  },
  {
   "cell_type": "code",
   "execution_count": 65,
   "metadata": {},
   "outputs": [],
   "source": [
    "act_det_not_nans_values_count = uniques_count(act_det_not_nans_df)"
   ]
  },
  {
   "cell_type": "code",
   "execution_count": 66,
   "metadata": {},
   "outputs": [],
   "source": [
    "user_id_nans = act_det_nans_values_count['user_id']"
   ]
  },
  {
   "cell_type": "code",
   "execution_count": 67,
   "metadata": {},
   "outputs": [],
   "source": [
    "user_id_not_nans = act_det_not_nans_values_count['user_id']"
   ]
  },
  {
   "cell_type": "code",
   "execution_count": 68,
   "metadata": {},
   "outputs": [],
   "source": [
    "user_id_nans_set = set(user_id_nans.index)\n",
    "user_id_not_nans_set = set(user_id_not_nans.index)"
   ]
  },
  {
   "cell_type": "code",
   "execution_count": 69,
   "metadata": {},
   "outputs": [
    {
     "name": "stdout",
     "output_type": "stream",
     "text": [
      "101102 135478 101097\n"
     ]
    }
   ],
   "source": [
    "print(len(user_id_nans_set), len(user_id_not_nans), len(user_id_nans_set.intersection(user_id_not_nans_set)))"
   ]
  },
  {
   "cell_type": "code",
   "execution_count": 70,
   "metadata": {},
   "outputs": [],
   "source": [
    "user_id_nans_only_set = user_id_nans_set.difference(user_id_not_nans_set)"
   ]
  },
  {
   "cell_type": "code",
   "execution_count": 71,
   "metadata": {},
   "outputs": [
    {
     "data": {
      "text/plain": [
       "5"
      ]
     },
     "execution_count": 71,
     "metadata": {},
     "output_type": "execute_result"
    }
   ],
   "source": [
    "len(user_id_nans_only_set)"
   ]
  },
  {
   "cell_type": "code",
   "execution_count": 72,
   "metadata": {},
   "outputs": [
    {
     "data": {
      "text/plain": [
       "{'16o67suu17', '4lw10qzgsd', '4s2v2hmngj', 'lwomddykjk', 'qldsx3hzys'}"
      ]
     },
     "execution_count": 72,
     "metadata": {},
     "output_type": "execute_result"
    }
   ],
   "source": [
    "user_id_nans_only_set"
   ]
  },
  {
   "cell_type": "code",
   "execution_count": 73,
   "metadata": {},
   "outputs": [
    {
     "data": {
      "text/plain": [
       "Index(['00023iyk9l', '0010k6l0om', '001wyh0pz8', '002qnbzfs5', '0035hobuyj',\n",
       "       '00378ocvlh', '00389675gq', '003iamz20l', '0048rkdgb1', '005jc3nbmb',\n",
       "       ...\n",
       "       'zzv6z6rjr9', 'zzv8sgicbk', 'zzvatt4dio', 'zzvg4emw5w', 'zzx0hfd74v',\n",
       "       'zzx5wp3lqu', 'zzxox7jnrx', 'zzy7t0y9cm', 'zzywmcn0jv', 'zzzlylp57e'],\n",
       "      dtype='object', name='user_id', length=101102)"
      ]
     },
     "execution_count": 73,
     "metadata": {},
     "output_type": "execute_result"
    }
   ],
   "source": [
    "user_id_nans.index"
   ]
  },
  {
   "cell_type": "code",
   "execution_count": 74,
   "metadata": {},
   "outputs": [
    {
     "name": "stdout",
     "output_type": "stream",
     "text": [
      "1\n",
      "1\n",
      "1\n",
      "1\n",
      "1\n"
     ]
    }
   ],
   "source": [
    "for index in user_id_nans_only_set:\n",
    "    print(user_id_nans[index])"
   ]
  },
  {
   "cell_type": "code",
   "execution_count": 75,
   "metadata": {},
   "outputs": [
    {
     "data": {
      "text/plain": [
       "1"
      ]
     },
     "execution_count": 75,
     "metadata": {},
     "output_type": "execute_result"
    }
   ],
   "source": [
    "user_id_nans['16o67suu17']"
   ]
  },
  {
   "cell_type": "code",
   "execution_count": 76,
   "metadata": {},
   "outputs": [],
   "source": [
    "act_det_nans_action =  act_det_nans_values_count['action']"
   ]
  },
  {
   "cell_type": "code",
   "execution_count": 77,
   "metadata": {},
   "outputs": [
    {
     "data": {
      "text/plain": [
       "18"
      ]
     },
     "execution_count": 77,
     "metadata": {},
     "output_type": "execute_result"
    }
   ],
   "source": [
    "len(act_det_nans_action)"
   ]
  },
  {
   "cell_type": "code",
   "execution_count": 78,
   "metadata": {},
   "outputs": [],
   "source": [
    "act_det_not_nans_action = act_det_not_nans_values_count['action']"
   ]
  },
  {
   "cell_type": "code",
   "execution_count": 79,
   "metadata": {},
   "outputs": [
    {
     "data": {
      "text/plain": [
       "347"
      ]
     },
     "execution_count": 79,
     "metadata": {},
     "output_type": "execute_result"
    }
   ],
   "source": [
    "len(act_det_not_nans_action)"
   ]
  },
  {
   "cell_type": "code",
   "execution_count": 80,
   "metadata": {},
   "outputs": [],
   "source": [
    "act_det_nans_device_type = act_det_nans_values_count['device_type']\n",
    "act_det_not_nans_device_type = act_det_not_nans_values_count['device_type']"
   ]
  },
  {
   "cell_type": "code",
   "execution_count": 81,
   "metadata": {},
   "outputs": [
    {
     "name": "stdout",
     "output_type": "stream",
     "text": [
      "14\n",
      "14\n"
     ]
    }
   ],
   "source": [
    "print(len(act_det_nans_device_type))\n",
    "print(len(act_det_not_nans_device_type))"
   ]
  },
  {
   "cell_type": "code",
   "execution_count": 82,
   "metadata": {},
   "outputs": [
    {
     "name": "stdout",
     "output_type": "stream",
     "text": [
      "\n",
      "\n",
      " user_id\n",
      "------------------------------\n",
      "101102\n",
      "135478\n",
      "\n",
      "\n",
      " action\n",
      "------------------------------\n",
      "18\n",
      "347\n",
      "\n",
      "\n",
      " action_type\n",
      "------------------------------\n",
      "0\n",
      "10\n",
      "\n",
      "\n",
      " action_detail\n",
      "------------------------------\n",
      "0\n",
      "155\n",
      "\n",
      "\n",
      " device_type\n",
      "------------------------------\n",
      "14\n",
      "14\n",
      "\n",
      "\n",
      " secs_elapsed\n",
      "------------------------------\n",
      "66180\n",
      "327145\n"
     ]
    }
   ],
   "source": [
    "for column in act_det_nans_values_count.keys():\n",
    "    print(\"\\n\\n\", column)\n",
    "    print(\"-\" * 30)\n",
    "    print(len(act_det_nans_values_count[column]))\n",
    "    print(len(act_det_not_nans_values_count[column]))"
   ]
  },
  {
   "cell_type": "code",
   "execution_count": 83,
   "metadata": {},
   "outputs": [],
   "source": [
    "action_act_det_nans_set = set(act_det_nans_values_count['action'].index)\n",
    "action_act_det_not_nans_set = set(act_det_not_nans_values_count['action'].index)"
   ]
  },
  {
   "cell_type": "code",
   "execution_count": 84,
   "metadata": {},
   "outputs": [
    {
     "data": {
      "text/plain": [
       "359"
      ]
     },
     "execution_count": 84,
     "metadata": {},
     "output_type": "execute_result"
    }
   ],
   "source": [
    "len(action_act_det_nans_set.union(action_act_det_not_nans_set))"
   ]
  },
  {
   "cell_type": "code",
   "execution_count": 85,
   "metadata": {},
   "outputs": [],
   "source": [
    "intersected_actions = action_act_det_nans_set.intersection(action_act_det_not_nans_set)\n",
    "only_nans_actions = action_act_det_nans_set.difference(action_act_det_not_nans_set)"
   ]
  },
  {
   "cell_type": "code",
   "execution_count": 86,
   "metadata": {},
   "outputs": [
    {
     "name": "stdout",
     "output_type": "stream",
     "text": [
      "{'index', 'show', 'currencies', 'campaigns', 'update', 'localization_settings'}\n",
      "{'check', 'track_activity', 'widget', 'track_page_view', 'braintree_client_token', 'lookup', 'satisfy', 'uptodate', 'signed_out_modal', 'phone_verification', 'disaster_action', 'similar_listings_v2'}\n"
     ]
    }
   ],
   "source": [
    "print(intersected_actions)\n",
    "print(only_nans_actions)"
   ]
  },
  {
   "cell_type": "code",
   "execution_count": 87,
   "metadata": {},
   "outputs": [],
   "source": [
    "#act_det_nans_action[act_det_nans_action.isin(intersected_actions)]"
   ]
  },
  {
   "cell_type": "code",
   "execution_count": 88,
   "metadata": {},
   "outputs": [],
   "source": [
    "#act_det_nans_action[act_det_nans_action.isin(only_nans_actions)]"
   ]
  },
  {
   "cell_type": "code",
   "execution_count": 89,
   "metadata": {},
   "outputs": [
    {
     "data": {
      "text/plain": [
       "action\n",
       "index                     16733\n",
       "show                     582144\n",
       "currencies                  292\n",
       "campaigns                104709\n",
       "update                      225\n",
       "localization_settings      5403\n",
       "Name: action, dtype: int64"
      ]
     },
     "execution_count": 89,
     "metadata": {},
     "output_type": "execute_result"
    }
   ],
   "source": [
    "act_det_nans_action[intersected_actions]"
   ]
  },
  {
   "cell_type": "code",
   "execution_count": 90,
   "metadata": {},
   "outputs": [
    {
     "data": {
      "text/plain": [
       "action\n",
       "check                        120\n",
       "track_activity                 6\n",
       "widget                        75\n",
       "track_page_view            81117\n",
       "braintree_client_token       120\n",
       "lookup                    162041\n",
       "satisfy                        9\n",
       "uptodate                    3342\n",
       "signed_out_modal            1058\n",
       "phone_verification            16\n",
       "disaster_action                6\n",
       "similar_listings_v2       168788\n",
       "Name: action, dtype: int64"
      ]
     },
     "execution_count": 90,
     "metadata": {},
     "output_type": "execute_result"
    }
   ],
   "source": [
    "act_det_nans_action[only_nans_actions]"
   ]
  },
  {
   "cell_type": "code",
   "execution_count": 91,
   "metadata": {},
   "outputs": [
    {
     "data": {
      "text/plain": [
       "action\n",
       "index                     826966\n",
       "show                     2186134\n",
       "currencies                     5\n",
       "campaigns                    319\n",
       "update                    364905\n",
       "localization_settings         11\n",
       "Name: action, dtype: int64"
      ]
     },
     "execution_count": 91,
     "metadata": {},
     "output_type": "execute_result"
    }
   ],
   "source": [
    "act_det_not_nans_action[intersected_actions]"
   ]
  },
  {
   "cell_type": "code",
   "execution_count": 92,
   "metadata": {},
   "outputs": [],
   "source": [
    "#act_det_not_nans_action[only_nans_actions]"
   ]
  },
  {
   "cell_type": "code",
   "execution_count": 93,
   "metadata": {},
   "outputs": [
    {
     "name": "stdout",
     "output_type": "stream",
     "text": [
      "\n",
      "\n",
      " index\n",
      "******************************\n",
      "act_det_nans_action[index]: 16733\n",
      "percent: 1.4857876548120943\n",
      "act_det_not_nans_action[index]: 826966\n",
      "percent: 8.83330714564885\n",
      "\n",
      "\n",
      " show\n",
      "******************************\n",
      "act_det_nans_action[show]: 582144\n",
      "percent: 51.69081267692176\n",
      "act_det_not_nans_action[show]: 2186134\n",
      "percent: 23.351374885480062\n",
      "\n",
      "\n",
      " currencies\n",
      "******************************\n",
      "act_det_nans_action[currencies]: 292\n",
      "percent: 0.02592780704028755\n",
      "act_det_not_nans_action[currencies]: 5\n",
      "percent: 5.340792212526785e-05\n",
      "\n",
      "\n",
      " campaigns\n",
      "******************************\n",
      "act_det_nans_action[campaigns]: 104709\n",
      "percent: 9.297516258155717\n",
      "act_det_not_nans_action[campaigns]: 319\n",
      "percent: 0.003407425431592089\n",
      "\n",
      "\n",
      " update\n",
      "******************************\n",
      "act_det_nans_action[update]: 225\n",
      "percent: 0.019978618438577733\n",
      "act_det_not_nans_action[update]: 364905\n",
      "percent: 3.897763564624173\n",
      "\n",
      "\n",
      " localization_settings\n",
      "******************************\n",
      "act_det_nans_action[localization_settings]: 5403\n",
      "percent: 0.4797532241050467\n",
      "act_det_not_nans_action[localization_settings]: 11\n",
      "percent: 0.00011749742867558926\n"
     ]
    }
   ],
   "source": [
    "for act in intersected_actions:\n",
    "    print(\"\\n\\n\", act)\n",
    "    print(\"*\" * 30)\n",
    "    print(\"act_det_nans_action[{}]:\".format(act), act_det_nans_action[act])\n",
    "    print(\"percent:\", act_det_nans_action[act] / act_det_nans_action.sum() * 100)\n",
    "    print(\"act_det_not_nans_action[{}]:\".format(act), act_det_not_nans_action[act])\n",
    "    print(\"percent:\", act_det_not_nans_action[act] / act_det_not_nans_action.sum() * 100)"
   ]
  },
  {
   "cell_type": "markdown",
   "metadata": {},
   "source": [
    "for act in only_nans_actions:\n",
    "    print(\"\\n\\n\", act)\n",
    "    print(\"*\" * 30)\n",
    "    print(\"act_det_nans_action[{}]:\".format(act), act_det_nans_action[act])\n",
    "    print(\"percent:\", act_det_nans_action[act] / act_det_nans_action.sum() * 100)\n",
    "    #print(\"act_det_not_nans_action[{}]:\".format(act), act_det_not_nans_action[act])\n",
    "    #print(\"percent:\", act_det_not_nans_action[act] / act_det_not_nans_action.sum() * 100)"
   ]
  },
  {
   "cell_type": "markdown",
   "metadata": {},
   "source": [
    "This is make sense drop all rows that in 'action' column have one of the values that contains in only_nans_actions set\n",
    "In rows that contains in 'action' column values from intersected_actions set we can substitude (in columns 'action_type' and 'action_detail' values from rows with same value in 'action' (but not have NaNs in 'action_type' and 'action_detail')"
   ]
  },
  {
   "cell_type": "code",
   "execution_count": 94,
   "metadata": {},
   "outputs": [
    {
     "data": {
      "text/plain": [
       "11"
      ]
     },
     "execution_count": 94,
     "metadata": {},
     "output_type": "execute_result"
    }
   ],
   "source": [
    "act_det_not_nans_action['localization_settings']"
   ]
  },
  {
   "cell_type": "code",
   "execution_count": 95,
   "metadata": {},
   "outputs": [
    {
     "data": {
      "text/plain": [
       "pandas.core.series.Series"
      ]
     },
     "execution_count": 95,
     "metadata": {},
     "output_type": "execute_result"
    }
   ],
   "source": [
    "type(act_det_not_nans_action)"
   ]
  },
  {
   "cell_type": "code",
   "execution_count": 96,
   "metadata": {},
   "outputs": [
    {
     "data": {
      "text/html": [
       "<div>\n",
       "<style scoped>\n",
       "    .dataframe tbody tr th:only-of-type {\n",
       "        vertical-align: middle;\n",
       "    }\n",
       "\n",
       "    .dataframe tbody tr th {\n",
       "        vertical-align: top;\n",
       "    }\n",
       "\n",
       "    .dataframe thead th {\n",
       "        text-align: right;\n",
       "    }\n",
       "</style>\n",
       "<table border=\"1\" class=\"dataframe\">\n",
       "  <thead>\n",
       "    <tr style=\"text-align: right;\">\n",
       "      <th></th>\n",
       "      <th>user_id</th>\n",
       "      <th>action</th>\n",
       "      <th>action_type</th>\n",
       "      <th>action_detail</th>\n",
       "      <th>device_type</th>\n",
       "      <th>secs_elapsed</th>\n",
       "    </tr>\n",
       "  </thead>\n",
       "  <tbody>\n",
       "    <tr>\n",
       "      <th>3421</th>\n",
       "      <td>toga865pvz</td>\n",
       "      <td>localization_settings</td>\n",
       "      <td>-unknown-</td>\n",
       "      <td>-unknown-</td>\n",
       "      <td>-unknown-</td>\n",
       "      <td>1137.0</td>\n",
       "    </tr>\n",
       "    <tr>\n",
       "      <th>9421</th>\n",
       "      <td>9svjpkjzmd</td>\n",
       "      <td>localization_settings</td>\n",
       "      <td>-unknown-</td>\n",
       "      <td>-unknown-</td>\n",
       "      <td>-unknown-</td>\n",
       "      <td>89697.0</td>\n",
       "    </tr>\n",
       "    <tr>\n",
       "      <th>9999</th>\n",
       "      <td>aafnnpqdu8</td>\n",
       "      <td>localization_settings</td>\n",
       "      <td>-unknown-</td>\n",
       "      <td>-unknown-</td>\n",
       "      <td>-unknown-</td>\n",
       "      <td>1751529.0</td>\n",
       "    </tr>\n",
       "    <tr>\n",
       "      <th>13636</th>\n",
       "      <td>2vxv32sfib</td>\n",
       "      <td>localization_settings</td>\n",
       "      <td>-unknown-</td>\n",
       "      <td>-unknown-</td>\n",
       "      <td>-unknown-</td>\n",
       "      <td>25784.0</td>\n",
       "    </tr>\n",
       "    <tr>\n",
       "      <th>32396</th>\n",
       "      <td>a1r3f08h08</td>\n",
       "      <td>localization_settings</td>\n",
       "      <td>-unknown-</td>\n",
       "      <td>-unknown-</td>\n",
       "      <td>-unknown-</td>\n",
       "      <td>986185.0</td>\n",
       "    </tr>\n",
       "    <tr>\n",
       "      <th>46035</th>\n",
       "      <td>kx3u4zmh5x</td>\n",
       "      <td>localization_settings</td>\n",
       "      <td>-unknown-</td>\n",
       "      <td>-unknown-</td>\n",
       "      <td>-unknown-</td>\n",
       "      <td>33515.0</td>\n",
       "    </tr>\n",
       "    <tr>\n",
       "      <th>60249</th>\n",
       "      <td>dfzyr7uhzj</td>\n",
       "      <td>localization_settings</td>\n",
       "      <td>-unknown-</td>\n",
       "      <td>-unknown-</td>\n",
       "      <td>-unknown-</td>\n",
       "      <td>203265.0</td>\n",
       "    </tr>\n",
       "    <tr>\n",
       "      <th>68376</th>\n",
       "      <td>zrsq9edttm</td>\n",
       "      <td>localization_settings</td>\n",
       "      <td>-unknown-</td>\n",
       "      <td>-unknown-</td>\n",
       "      <td>-unknown-</td>\n",
       "      <td>80486.0</td>\n",
       "    </tr>\n",
       "    <tr>\n",
       "      <th>95626</th>\n",
       "      <td>gggj3wmmwb</td>\n",
       "      <td>localization_settings</td>\n",
       "      <td>-unknown-</td>\n",
       "      <td>-unknown-</td>\n",
       "      <td>-unknown-</td>\n",
       "      <td>989683.0</td>\n",
       "    </tr>\n",
       "    <tr>\n",
       "      <th>96826</th>\n",
       "      <td>ovkov1dijr</td>\n",
       "      <td>localization_settings</td>\n",
       "      <td>-unknown-</td>\n",
       "      <td>-unknown-</td>\n",
       "      <td>-unknown-</td>\n",
       "      <td>117746.0</td>\n",
       "    </tr>\n",
       "    <tr>\n",
       "      <th>96833</th>\n",
       "      <td>ovkov1dijr</td>\n",
       "      <td>localization_settings</td>\n",
       "      <td>-unknown-</td>\n",
       "      <td>-unknown-</td>\n",
       "      <td>-unknown-</td>\n",
       "      <td>107283.0</td>\n",
       "    </tr>\n",
       "  </tbody>\n",
       "</table>\n",
       "</div>"
      ],
      "text/plain": [
       "          user_id                 action action_type action_detail  \\\n",
       "3421   toga865pvz  localization_settings   -unknown-     -unknown-   \n",
       "9421   9svjpkjzmd  localization_settings   -unknown-     -unknown-   \n",
       "9999   aafnnpqdu8  localization_settings   -unknown-     -unknown-   \n",
       "13636  2vxv32sfib  localization_settings   -unknown-     -unknown-   \n",
       "32396  a1r3f08h08  localization_settings   -unknown-     -unknown-   \n",
       "46035  kx3u4zmh5x  localization_settings   -unknown-     -unknown-   \n",
       "60249  dfzyr7uhzj  localization_settings   -unknown-     -unknown-   \n",
       "68376  zrsq9edttm  localization_settings   -unknown-     -unknown-   \n",
       "95626  gggj3wmmwb  localization_settings   -unknown-     -unknown-   \n",
       "96826  ovkov1dijr  localization_settings   -unknown-     -unknown-   \n",
       "96833  ovkov1dijr  localization_settings   -unknown-     -unknown-   \n",
       "\n",
       "      device_type  secs_elapsed  \n",
       "3421    -unknown-        1137.0  \n",
       "9421    -unknown-       89697.0  \n",
       "9999    -unknown-     1751529.0  \n",
       "13636   -unknown-       25784.0  \n",
       "32396   -unknown-      986185.0  \n",
       "46035   -unknown-       33515.0  \n",
       "60249   -unknown-      203265.0  \n",
       "68376   -unknown-       80486.0  \n",
       "95626   -unknown-      989683.0  \n",
       "96826   -unknown-      117746.0  \n",
       "96833   -unknown-      107283.0  "
      ]
     },
     "execution_count": 96,
     "metadata": {},
     "output_type": "execute_result"
    }
   ],
   "source": [
    "act_det_not_nans_df[act_det_not_nans_df['action'] == 'localization_settings']"
   ]
  },
  {
   "cell_type": "code",
   "execution_count": 97,
   "metadata": {},
   "outputs": [],
   "source": [
    "#act_det_not_nans_df[act_det_not_nans_df['action'] == 'show']"
   ]
  },
  {
   "cell_type": "code",
   "execution_count": 98,
   "metadata": {},
   "outputs": [],
   "source": [
    "act_show_not_nans_df = act_det_not_nans_df[act_det_not_nans_df['action'] == 'show']"
   ]
  },
  {
   "cell_type": "code",
   "execution_count": 99,
   "metadata": {},
   "outputs": [],
   "source": [
    "#act_show_not_nans_df['action_type'].groupby(by=act_show_not_nans_df['action_type']).count()"
   ]
  },
  {
   "cell_type": "code",
   "execution_count": null,
   "metadata": {},
   "outputs": [],
   "source": [
    "#act_show_not_nans_df['action_detail'].groupby(by=act_show_not_nans_df['action_detail']).count()"
   ]
  },
  {
   "cell_type": "code",
   "execution_count": 105,
   "metadata": {},
   "outputs": [
    {
     "name": "stdout",
     "output_type": "stream",
     "text": [
      "\n",
      "\n",
      "\n",
      "action value: index\n",
      "******************************\n",
      "count:\n",
      " action_type\n",
      "-unknown-    112155\n",
      "data          35112\n",
      "view         679699\n",
      "Name: action_type, dtype: int64\n",
      "proportion:\n",
      " action_type\n",
      "-unknown-    0.135622\n",
      "data         0.042459\n",
      "view         0.821919\n",
      "Name: action_type, dtype: float64\n",
      "\n",
      "count:\n",
      " action_detail\n",
      "-unknown-                      112155\n",
      "account_payment_methods          1005\n",
      "homepage                           15\n",
      "listing_descriptions             5735\n",
      "message_inbox                   18718\n",
      "message_thread                  67744\n",
      "reservations                    32479\n",
      "user_tax_forms                   2633\n",
      "user_wishlists                  18357\n",
      "view_ghosting_reasons              19\n",
      "view_ghostings                     19\n",
      "view_identity_verifications        38\n",
      "view_locations                   7854\n",
      "view_reservations                9460\n",
      "view_resolutions                   42\n",
      "view_search_results            519675\n",
      "view_user_real_names               38\n",
      "your_listings                   30980\n",
      "Name: action_detail, dtype: int64\n",
      "proportion:\n",
      " action_detail\n",
      "-unknown-                      0.135622\n",
      "account_payment_methods        0.001215\n",
      "homepage                       0.000018\n",
      "listing_descriptions           0.006935\n",
      "message_inbox                  0.022635\n",
      "message_thread                 0.081919\n",
      "reservations                   0.039275\n",
      "user_tax_forms                 0.003184\n",
      "user_wishlists                 0.022198\n",
      "view_ghosting_reasons          0.000023\n",
      "view_ghostings                 0.000023\n",
      "view_identity_verifications    0.000046\n",
      "view_locations                 0.009497\n",
      "view_reservations              0.011439\n",
      "view_resolutions               0.000051\n",
      "view_search_results            0.628412\n",
      "view_user_real_names           0.000046\n",
      "your_listings                  0.037462\n",
      "Name: action_detail, dtype: float64\n",
      "\n",
      "\n",
      "\n",
      "action value: show\n",
      "******************************\n",
      "count:\n",
      " action_type\n",
      "-unknown-      97404\n",
      "data             320\n",
      "view         2088410\n",
      "Name: action_type, dtype: int64\n",
      "proportion:\n",
      " action_type\n",
      "-unknown-    0.044555\n",
      "data         0.000146\n",
      "view         0.955298\n",
      "Name: action_type, dtype: float64\n",
      "\n",
      "count:\n",
      " action_detail\n",
      "-unknown-                        97404\n",
      "alteration_request                  42\n",
      "p1                               37976\n",
      "p3                             1362617\n",
      "translations                       320\n",
      "user_profile                    656839\n",
      "view_identity_verifications         19\n",
      "view_listing                     18474\n",
      "view_security_checks               135\n",
      "wishlist                         12308\n",
      "Name: action_detail, dtype: int64\n",
      "proportion:\n",
      " action_detail\n",
      "-unknown-                      0.044555\n",
      "alteration_request             0.000019\n",
      "p1                             0.017371\n",
      "p3                             0.623300\n",
      "translations                   0.000146\n",
      "user_profile                   0.300457\n",
      "view_identity_verifications    0.000009\n",
      "view_listing                   0.008451\n",
      "view_security_checks           0.000062\n",
      "wishlist                       0.005630\n",
      "Name: action_detail, dtype: float64\n",
      "\n",
      "\n",
      "\n",
      "action value: currencies\n",
      "******************************\n",
      "count:\n",
      " action_type\n",
      "-unknown-    5\n",
      "Name: action_type, dtype: int64\n",
      "proportion:\n",
      " action_type\n",
      "-unknown-    1.0\n",
      "Name: action_type, dtype: float64\n",
      "\n",
      "count:\n",
      " action_detail\n",
      "-unknown-    5\n",
      "Name: action_detail, dtype: int64\n",
      "proportion:\n",
      " action_detail\n",
      "-unknown-    1.0\n",
      "Name: action_detail, dtype: float64\n",
      "\n",
      "\n",
      "\n",
      "action value: campaigns\n",
      "******************************\n",
      "count:\n",
      " action_type\n",
      "-unknown-    319\n",
      "Name: action_type, dtype: int64\n",
      "proportion:\n",
      " action_type\n",
      "-unknown-    1.0\n",
      "Name: action_type, dtype: float64\n",
      "\n",
      "count:\n",
      " action_detail\n",
      "-unknown-    319\n",
      "Name: action_detail, dtype: int64\n",
      "proportion:\n",
      " action_detail\n",
      "-unknown-    1.0\n",
      "Name: action_detail, dtype: float64\n",
      "\n",
      "\n",
      "\n",
      "action value: update\n",
      "******************************\n",
      "count:\n",
      " action_type\n",
      "-unknown-     12449\n",
      "submit       352456\n",
      "Name: action_type, dtype: int64\n",
      "proportion:\n",
      " action_type\n",
      "-unknown-    0.034116\n",
      "submit       0.965884\n",
      "Name: action_type, dtype: float64\n",
      "\n",
      "count:\n",
      " action_detail\n",
      "-unknown-                      12449\n",
      "update_listing                269779\n",
      "update_listing_description     26980\n",
      "update_user                    29008\n",
      "update_user_profile            26689\n",
      "Name: action_detail, dtype: int64\n",
      "proportion:\n",
      " action_detail\n",
      "-unknown-                     0.034116\n",
      "update_listing                0.739313\n",
      "update_listing_description    0.073937\n",
      "update_user                   0.079495\n",
      "update_user_profile           0.073140\n",
      "Name: action_detail, dtype: float64\n",
      "\n",
      "\n",
      "\n",
      "action value: localization_settings\n",
      "******************************\n",
      "count:\n",
      " action_type\n",
      "-unknown-    11\n",
      "Name: action_type, dtype: int64\n",
      "proportion:\n",
      " action_type\n",
      "-unknown-    1.0\n",
      "Name: action_type, dtype: float64\n",
      "\n",
      "count:\n",
      " action_detail\n",
      "-unknown-    11\n",
      "Name: action_detail, dtype: int64\n",
      "proportion:\n",
      " action_detail\n",
      "-unknown-    1.0\n",
      "Name: action_detail, dtype: float64\n"
     ]
    }
   ],
   "source": [
    "for act in intersected_actions:\n",
    "    print(\"\\n\\n\\naction value:\", act)\n",
    "    print(\"*\" * 30)\n",
    "    act_type_df = act_det_not_nans_df[act_det_not_nans_df['action'] == act]\n",
    "    act_type = act_type_df['action_type'].groupby(by=act_type_df['action_type'])\n",
    "    act_type_count = act_type.count()\n",
    "    print(\"count:\\n\", act_type_count)\n",
    "    print(\"proportion:\\n\", act_type_count / act_type_count.sum())\n",
    "    print()\n",
    "    act_det = act_type_df['action_detail'].groupby(by=act_type_df['action_detail'])\n",
    "    act_det_count = act_det.count()\n",
    "    print(\"count:\\n\", act_det_count)\n",
    "    print(\"proportion:\\n\", act_det_count / act_det_count.sum())"
   ]
  },
  {
   "cell_type": "code",
   "execution_count": null,
   "metadata": {},
   "outputs": [],
   "source": []
  },
  {
   "cell_type": "code",
   "execution_count": null,
   "metadata": {},
   "outputs": [],
   "source": []
  }
 ],
 "metadata": {
  "kernelspec": {
   "display_name": "Python 3",
   "language": "python",
   "name": "python3"
  },
  "language_info": {
   "codemirror_mode": {
    "name": "ipython",
    "version": 3
   },
   "file_extension": ".py",
   "mimetype": "text/x-python",
   "name": "python",
   "nbconvert_exporter": "python",
   "pygments_lexer": "ipython3",
   "version": "3.6.6"
  }
 },
 "nbformat": 4,
 "nbformat_minor": 2
}
