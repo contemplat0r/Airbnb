{
 "cells": [
  {
   "cell_type": "markdown",
   "metadata": {},
   "source": [
    "<center>##Airbnb booking data cleaning</center>"
   ]
  },
  {
   "cell_type": "code",
   "execution_count": 1,
   "metadata": {},
   "outputs": [],
   "source": [
    "import os\n",
    "import pathlib\n",
    "import time\n",
    "\n",
    "import numpy as np\n",
    "import pandas as pd\n",
    "import matplotlib.pyplot as plt\n",
    "import matplotlib.ticker as ticker\n",
    "import seaborn as sns"
   ]
  },
  {
   "cell_type": "code",
   "execution_count": 2,
   "metadata": {},
   "outputs": [],
   "source": [
    "%matplotlib inline"
   ]
  },
  {
   "cell_type": "code",
   "execution_count": 3,
   "metadata": {},
   "outputs": [],
   "source": [
    "#!ls ../input/"
   ]
  },
  {
   "cell_type": "markdown",
   "metadata": {},
   "source": [
    "## Preliminary investigation of the data"
   ]
  },
  {
   "cell_type": "code",
   "execution_count": 4,
   "metadata": {},
   "outputs": [],
   "source": [
    "def detect_nan_strings(df):\n",
    "    for column in df.columns:\n",
    "        print(\"\\n\\ncolumn: {}:\".format(column))\n",
    "        print(\"-\" * 20)\n",
    "        try:\n",
    "            print(\"is NAN string:\\n\", any(df[column] == 'NAN'))\n",
    "            print(\"is NAN string:\\n\", any(df[column] == 'nan'))\n",
    "            print(\"is NAN string:\\n\", any(df[column] == 'NaN'))\n",
    "        except TypeError:\n",
    "            print(\"column {} not str type\".format(column))"
   ]
  },
  {
   "cell_type": "code",
   "execution_count": 5,
   "metadata": {},
   "outputs": [],
   "source": [
    "def uniques_count(df):\n",
    "    return {column: df[column].groupby(by=df[column]).count() for column in df.columns}"
   ]
  },
  {
   "cell_type": "markdown",
   "metadata": {},
   "source": [
    "###<center> Data loading and preliminary investigation</center>"
   ]
  },
  {
   "cell_type": "code",
   "execution_count": 6,
   "metadata": {},
   "outputs": [],
   "source": [
    "users_df = pd.read_csv('../input/train_users_2.csv')"
   ]
  },
  {
   "cell_type": "code",
   "execution_count": 7,
   "metadata": {},
   "outputs": [],
   "source": [
    "sessions_df = pd.read_csv('../input/sessions.csv')"
   ]
  },
  {
   "cell_type": "code",
   "execution_count": 8,
   "metadata": {},
   "outputs": [
    {
     "name": "stdout",
     "output_type": "stream",
     "text": [
      "<class 'pandas.core.frame.DataFrame'>\n",
      "RangeIndex: 213451 entries, 0 to 213450\n",
      "Data columns (total 16 columns):\n",
      "id                         213451 non-null object\n",
      "date_account_created       213451 non-null object\n",
      "timestamp_first_active     213451 non-null int64\n",
      "date_first_booking         88908 non-null object\n",
      "gender                     213451 non-null object\n",
      "age                        125461 non-null float64\n",
      "signup_method              213451 non-null object\n",
      "signup_flow                213451 non-null int64\n",
      "language                   213451 non-null object\n",
      "affiliate_channel          213451 non-null object\n",
      "affiliate_provider         213451 non-null object\n",
      "first_affiliate_tracked    207386 non-null object\n",
      "signup_app                 213451 non-null object\n",
      "first_device_type          213451 non-null object\n",
      "first_browser              213451 non-null object\n",
      "country_destination        213451 non-null object\n",
      "dtypes: float64(1), int64(2), object(13)\n",
      "memory usage: 26.1+ MB\n"
     ]
    }
   ],
   "source": [
    "users_df.info()"
   ]
  },
  {
   "cell_type": "code",
   "execution_count": 9,
   "metadata": {},
   "outputs": [
    {
     "data": {
      "text/html": [
       "<div>\n",
       "<style scoped>\n",
       "    .dataframe tbody tr th:only-of-type {\n",
       "        vertical-align: middle;\n",
       "    }\n",
       "\n",
       "    .dataframe tbody tr th {\n",
       "        vertical-align: top;\n",
       "    }\n",
       "\n",
       "    .dataframe thead th {\n",
       "        text-align: right;\n",
       "    }\n",
       "</style>\n",
       "<table border=\"1\" class=\"dataframe\">\n",
       "  <thead>\n",
       "    <tr style=\"text-align: right;\">\n",
       "      <th></th>\n",
       "      <th>id</th>\n",
       "      <th>date_account_created</th>\n",
       "      <th>timestamp_first_active</th>\n",
       "      <th>date_first_booking</th>\n",
       "      <th>gender</th>\n",
       "      <th>age</th>\n",
       "      <th>signup_method</th>\n",
       "      <th>signup_flow</th>\n",
       "      <th>language</th>\n",
       "      <th>affiliate_channel</th>\n",
       "      <th>affiliate_provider</th>\n",
       "      <th>first_affiliate_tracked</th>\n",
       "      <th>signup_app</th>\n",
       "      <th>first_device_type</th>\n",
       "      <th>first_browser</th>\n",
       "      <th>country_destination</th>\n",
       "    </tr>\n",
       "  </thead>\n",
       "  <tbody>\n",
       "    <tr>\n",
       "      <th>0</th>\n",
       "      <td>gxn3p5htnn</td>\n",
       "      <td>2010-06-28</td>\n",
       "      <td>20090319043255</td>\n",
       "      <td>NaN</td>\n",
       "      <td>-unknown-</td>\n",
       "      <td>NaN</td>\n",
       "      <td>facebook</td>\n",
       "      <td>0</td>\n",
       "      <td>en</td>\n",
       "      <td>direct</td>\n",
       "      <td>direct</td>\n",
       "      <td>untracked</td>\n",
       "      <td>Web</td>\n",
       "      <td>Mac Desktop</td>\n",
       "      <td>Chrome</td>\n",
       "      <td>NDF</td>\n",
       "    </tr>\n",
       "    <tr>\n",
       "      <th>1</th>\n",
       "      <td>820tgsjxq7</td>\n",
       "      <td>2011-05-25</td>\n",
       "      <td>20090523174809</td>\n",
       "      <td>NaN</td>\n",
       "      <td>MALE</td>\n",
       "      <td>38.0</td>\n",
       "      <td>facebook</td>\n",
       "      <td>0</td>\n",
       "      <td>en</td>\n",
       "      <td>seo</td>\n",
       "      <td>google</td>\n",
       "      <td>untracked</td>\n",
       "      <td>Web</td>\n",
       "      <td>Mac Desktop</td>\n",
       "      <td>Chrome</td>\n",
       "      <td>NDF</td>\n",
       "    </tr>\n",
       "    <tr>\n",
       "      <th>2</th>\n",
       "      <td>4ft3gnwmtx</td>\n",
       "      <td>2010-09-28</td>\n",
       "      <td>20090609231247</td>\n",
       "      <td>2010-08-02</td>\n",
       "      <td>FEMALE</td>\n",
       "      <td>56.0</td>\n",
       "      <td>basic</td>\n",
       "      <td>3</td>\n",
       "      <td>en</td>\n",
       "      <td>direct</td>\n",
       "      <td>direct</td>\n",
       "      <td>untracked</td>\n",
       "      <td>Web</td>\n",
       "      <td>Windows Desktop</td>\n",
       "      <td>IE</td>\n",
       "      <td>US</td>\n",
       "    </tr>\n",
       "    <tr>\n",
       "      <th>3</th>\n",
       "      <td>bjjt8pjhuk</td>\n",
       "      <td>2011-12-05</td>\n",
       "      <td>20091031060129</td>\n",
       "      <td>2012-09-08</td>\n",
       "      <td>FEMALE</td>\n",
       "      <td>42.0</td>\n",
       "      <td>facebook</td>\n",
       "      <td>0</td>\n",
       "      <td>en</td>\n",
       "      <td>direct</td>\n",
       "      <td>direct</td>\n",
       "      <td>untracked</td>\n",
       "      <td>Web</td>\n",
       "      <td>Mac Desktop</td>\n",
       "      <td>Firefox</td>\n",
       "      <td>other</td>\n",
       "    </tr>\n",
       "    <tr>\n",
       "      <th>4</th>\n",
       "      <td>87mebub9p4</td>\n",
       "      <td>2010-09-14</td>\n",
       "      <td>20091208061105</td>\n",
       "      <td>2010-02-18</td>\n",
       "      <td>-unknown-</td>\n",
       "      <td>41.0</td>\n",
       "      <td>basic</td>\n",
       "      <td>0</td>\n",
       "      <td>en</td>\n",
       "      <td>direct</td>\n",
       "      <td>direct</td>\n",
       "      <td>untracked</td>\n",
       "      <td>Web</td>\n",
       "      <td>Mac Desktop</td>\n",
       "      <td>Chrome</td>\n",
       "      <td>US</td>\n",
       "    </tr>\n",
       "  </tbody>\n",
       "</table>\n",
       "</div>"
      ],
      "text/plain": [
       "           id date_account_created  timestamp_first_active date_first_booking  \\\n",
       "0  gxn3p5htnn           2010-06-28          20090319043255                NaN   \n",
       "1  820tgsjxq7           2011-05-25          20090523174809                NaN   \n",
       "2  4ft3gnwmtx           2010-09-28          20090609231247         2010-08-02   \n",
       "3  bjjt8pjhuk           2011-12-05          20091031060129         2012-09-08   \n",
       "4  87mebub9p4           2010-09-14          20091208061105         2010-02-18   \n",
       "\n",
       "      gender   age signup_method  signup_flow language affiliate_channel  \\\n",
       "0  -unknown-   NaN      facebook            0       en            direct   \n",
       "1       MALE  38.0      facebook            0       en               seo   \n",
       "2     FEMALE  56.0         basic            3       en            direct   \n",
       "3     FEMALE  42.0      facebook            0       en            direct   \n",
       "4  -unknown-  41.0         basic            0       en            direct   \n",
       "\n",
       "  affiliate_provider first_affiliate_tracked signup_app first_device_type  \\\n",
       "0             direct               untracked        Web       Mac Desktop   \n",
       "1             google               untracked        Web       Mac Desktop   \n",
       "2             direct               untracked        Web   Windows Desktop   \n",
       "3             direct               untracked        Web       Mac Desktop   \n",
       "4             direct               untracked        Web       Mac Desktop   \n",
       "\n",
       "  first_browser country_destination  \n",
       "0        Chrome                 NDF  \n",
       "1        Chrome                 NDF  \n",
       "2            IE                  US  \n",
       "3       Firefox               other  \n",
       "4        Chrome                  US  "
      ]
     },
     "execution_count": 9,
     "metadata": {},
     "output_type": "execute_result"
    }
   ],
   "source": [
    "users_df.head()"
   ]
  },
  {
   "cell_type": "code",
   "execution_count": 10,
   "metadata": {},
   "outputs": [
    {
     "data": {
      "text/html": [
       "<div>\n",
       "<style scoped>\n",
       "    .dataframe tbody tr th:only-of-type {\n",
       "        vertical-align: middle;\n",
       "    }\n",
       "\n",
       "    .dataframe tbody tr th {\n",
       "        vertical-align: top;\n",
       "    }\n",
       "\n",
       "    .dataframe thead th {\n",
       "        text-align: right;\n",
       "    }\n",
       "</style>\n",
       "<table border=\"1\" class=\"dataframe\">\n",
       "  <thead>\n",
       "    <tr style=\"text-align: right;\">\n",
       "      <th></th>\n",
       "      <th>timestamp_first_active</th>\n",
       "      <th>age</th>\n",
       "      <th>signup_flow</th>\n",
       "    </tr>\n",
       "  </thead>\n",
       "  <tbody>\n",
       "    <tr>\n",
       "      <th>count</th>\n",
       "      <td>2.134510e+05</td>\n",
       "      <td>125461.000000</td>\n",
       "      <td>213451.000000</td>\n",
       "    </tr>\n",
       "    <tr>\n",
       "      <th>mean</th>\n",
       "      <td>2.013085e+13</td>\n",
       "      <td>49.668335</td>\n",
       "      <td>3.267387</td>\n",
       "    </tr>\n",
       "    <tr>\n",
       "      <th>std</th>\n",
       "      <td>9.253717e+09</td>\n",
       "      <td>155.666612</td>\n",
       "      <td>7.637707</td>\n",
       "    </tr>\n",
       "    <tr>\n",
       "      <th>min</th>\n",
       "      <td>2.009032e+13</td>\n",
       "      <td>1.000000</td>\n",
       "      <td>0.000000</td>\n",
       "    </tr>\n",
       "    <tr>\n",
       "      <th>25%</th>\n",
       "      <td>2.012123e+13</td>\n",
       "      <td>28.000000</td>\n",
       "      <td>0.000000</td>\n",
       "    </tr>\n",
       "    <tr>\n",
       "      <th>50%</th>\n",
       "      <td>2.013091e+13</td>\n",
       "      <td>34.000000</td>\n",
       "      <td>0.000000</td>\n",
       "    </tr>\n",
       "    <tr>\n",
       "      <th>75%</th>\n",
       "      <td>2.014031e+13</td>\n",
       "      <td>43.000000</td>\n",
       "      <td>0.000000</td>\n",
       "    </tr>\n",
       "    <tr>\n",
       "      <th>max</th>\n",
       "      <td>2.014063e+13</td>\n",
       "      <td>2014.000000</td>\n",
       "      <td>25.000000</td>\n",
       "    </tr>\n",
       "  </tbody>\n",
       "</table>\n",
       "</div>"
      ],
      "text/plain": [
       "       timestamp_first_active            age    signup_flow\n",
       "count            2.134510e+05  125461.000000  213451.000000\n",
       "mean             2.013085e+13      49.668335       3.267387\n",
       "std              9.253717e+09     155.666612       7.637707\n",
       "min              2.009032e+13       1.000000       0.000000\n",
       "25%              2.012123e+13      28.000000       0.000000\n",
       "50%              2.013091e+13      34.000000       0.000000\n",
       "75%              2.014031e+13      43.000000       0.000000\n",
       "max              2.014063e+13    2014.000000      25.000000"
      ]
     },
     "execution_count": 10,
     "metadata": {},
     "output_type": "execute_result"
    }
   ],
   "source": [
    "users_df.describe()"
   ]
  },
  {
   "cell_type": "code",
   "execution_count": 60,
   "metadata": {},
   "outputs": [],
   "source": [
    "sorted_age = users_df['age'].sort_values()"
   ]
  },
  {
   "cell_type": "code",
   "execution_count": 61,
   "metadata": {},
   "outputs": [
    {
     "data": {
      "text/plain": [
       "83117     1.0\n",
       "194600    1.0\n",
       "84865     2.0\n",
       "5749      2.0\n",
       "191312    2.0\n",
       "Name: age, dtype: float64"
      ]
     },
     "execution_count": 61,
     "metadata": {},
     "output_type": "execute_result"
    }
   ],
   "source": [
    "sorted_age.head()"
   ]
  },
  {
   "cell_type": "code",
   "execution_count": 62,
   "metadata": {},
   "outputs": [
    {
     "data": {
      "text/plain": [
       "213442   NaN\n",
       "213444   NaN\n",
       "213447   NaN\n",
       "213449   NaN\n",
       "213450   NaN\n",
       "Name: age, dtype: float64"
      ]
     },
     "execution_count": 62,
     "metadata": {},
     "output_type": "execute_result"
    }
   ],
   "source": [
    "sorted_age.tail()"
   ]
  },
  {
   "cell_type": "markdown",
   "metadata": {},
   "source": [
    "We can see that is significant number of NaNs in 'date_first_booking' and 'age' columns. And min age is 1 and max age is 2014\n",
    "that is terrible."
   ]
  },
  {
   "cell_type": "code",
   "execution_count": 45,
   "metadata": {},
   "outputs": [],
   "source": [
    "count_age_values = users_df['age'].groupby(by=users_df['age']).count().sort_index()"
   ]
  },
  {
   "cell_type": "code",
   "execution_count": 51,
   "metadata": {},
   "outputs": [
    {
     "data": {
      "text/plain": [
       "(127,)"
      ]
     },
     "execution_count": 51,
     "metadata": {},
     "output_type": "execute_result"
    }
   ],
   "source": [
    "count_age_values.shape"
   ]
  },
  {
   "cell_type": "code",
   "execution_count": 52,
   "metadata": {},
   "outputs": [
    {
     "data": {
      "text/plain": [
       "1"
      ]
     },
     "execution_count": 52,
     "metadata": {},
     "output_type": "execute_result"
    }
   ],
   "source": [
    "count_age_values.min()"
   ]
  },
  {
   "cell_type": "code",
   "execution_count": 74,
   "metadata": {},
   "outputs": [
    {
     "data": {
      "text/plain": [
       "30.0"
      ]
     },
     "execution_count": 74,
     "metadata": {},
     "output_type": "execute_result"
    }
   ],
   "source": [
    "count_age_values.idxmax()"
   ]
  },
  {
   "cell_type": "code",
   "execution_count": 75,
   "metadata": {},
   "outputs": [
    {
     "data": {
      "text/plain": [
       "6124"
      ]
     },
     "execution_count": 75,
     "metadata": {},
     "output_type": "execute_result"
    }
   ],
   "source": [
    "count_age_values[30]"
   ]
  },
  {
   "cell_type": "code",
   "execution_count": 47,
   "metadata": {},
   "outputs": [
    {
     "data": {
      "text/plain": [
       "age\n",
       "1.0      2\n",
       "2.0      7\n",
       "4.0      3\n",
       "5.0     45\n",
       "15.0     8\n",
       "Name: age, dtype: int64"
      ]
     },
     "execution_count": 47,
     "metadata": {},
     "output_type": "execute_result"
    }
   ],
   "source": [
    "count_age_values.head()"
   ]
  },
  {
   "cell_type": "code",
   "execution_count": 48,
   "metadata": {},
   "outputs": [
    {
     "data": {
      "text/plain": [
       "age\n",
       "1953.0      1\n",
       "1995.0      1\n",
       "2008.0      1\n",
       "2013.0     39\n",
       "2014.0    710\n",
       "Name: age, dtype: int64"
      ]
     },
     "execution_count": 48,
     "metadata": {},
     "output_type": "execute_result"
    }
   ],
   "source": [
    "count_age_values.tail()"
   ]
  },
  {
   "cell_type": "markdown",
   "metadata": {},
   "source": [
    "For clarity, let's make some graphs."
   ]
  },
  {
   "cell_type": "code",
   "execution_count": 66,
   "metadata": {},
   "outputs": [
    {
     "data": {
      "image/png": "[encoded data removed]",
      "text/plain": [
       "<Figure size 1152x864 with 1 Axes>"
      ]
     },
     "metadata": {
      "needs_background": "light"
     },
     "output_type": "display_data"
    }
   ],
   "source": [
    "cm = plt.cm.get_cmap('RdYlBu_r')\n",
    "fig = plt.figure(figsize=(16, 12))\n",
    "ax = fig.add_subplot(111)\n",
    "#n, bins, patches = ax.hist(count_age_values, 20, color='green', alpha=0.5, histtype='bar', ec='black')\n",
    "n, bins, patches = ax.hist(users_df['age'].sort_values().dropna(), 100, color='green', alpha=0.5, histtype='bar', ec='black')\n",
    "bin_centers = 0.5 * (bins[:-1] + bins[1:])\n",
    "\n",
    "col = bin_centers - min(bin_centers)\n",
    "col /= max(col)\n",
    "\n",
    "for c, path in zip(col, patches):\n",
    "    plt.setp(path, 'facecolor', cm(c))\n",
    "ax.set_xlabel(\"Age\")\n",
    "ax.set_ylabel(\"Rate\")\n",
    "ax.set_title(\"Age rate histogram\")\n",
    "plt.show()"
   ]
  },
  {
   "cell_type": "code",
   "execution_count": 67,
   "metadata": {},
   "outputs": [
    {
     "data": {
      "image/png": "[encoded data removed]",
      "text/plain": [
       "<Figure size 1152x864 with 1 Axes>"
      ]
     },
     "metadata": {
      "needs_background": "light"
     },
     "output_type": "display_data"
    }
   ],
   "source": [
    "cm = plt.cm.get_cmap('RdYlBu_r')\n",
    "fig = plt.figure(figsize=(16, 12))\n",
    "ax = fig.add_subplot(111)\n",
    "#n, bins, patches = ax.hist(count_age_values, 20, color='green', alpha=0.5, histtype='bar', ec='black')\n",
    "n, bins, patches = ax.hist(users_df.loc[users_df['age'] > 500, 'age'].sort_values().dropna(), 100, color='green', alpha=0.5, histtype='bar', ec='black')\n",
    "bin_centers = 0.5 * (bins[:-1] + bins[1:])\n",
    "\n",
    "col = bin_centers - min(bin_centers)\n",
    "col /= max(col)\n",
    "\n",
    "for c, path in zip(col, patches):\n",
    "    plt.setp(path, 'facecolor', cm(c))\n",
    "ax.set_xlabel(\"Age\")\n",
    "ax.set_ylabel(\"Rate\")\n",
    "ax.set_title(\"Age rate histogram\")\n",
    "plt.show()"
   ]
  },
  {
   "cell_type": "code",
   "execution_count": 84,
   "metadata": {},
   "outputs": [
    {
     "data": {
      "image/png": "[encoded data removed]",
      "text/plain": [
       "<Figure size 1152x864 with 1 Axes>"
      ]
     },
     "metadata": {
      "needs_background": "light"
     },
     "output_type": "display_data"
    }
   ],
   "source": [
    "cm = plt.cm.get_cmap('RdYlBu_r')\n",
    "fig = plt.figure(figsize=(16, 12))\n",
    "ax = fig.add_subplot(111)\n",
    "#n, bins, patches = ax.hist(count_age_values, 20, color='green', alpha=0.5, histtype='bar', ec='black')\n",
    "n, bins, patches = ax.hist(count_age_values.values, 127, color='green', alpha=0.5, histtype='bar', ec='black')\n",
    "bin_centers = 0.5 * (bins[:-1] + bins[1:])\n",
    "\n",
    "col = bin_centers - min(bin_centers)\n",
    "col /= max(col)\n",
    "\n",
    "for c, path in zip(col, patches):\n",
    "    plt.setp(path, 'facecolor', cm(c))\n",
    "ax.set_xlabel(\"Quantity\")\n",
    "#ax.set_ylabel(\"Quantity\")\n",
    "ax.set_title(\"Unique ages quantity histogram\")\n",
    "#ax.set_ylim(count_age_values.min(), count_age_values.max())\n",
    "#ax.set_ylim(1, 70)\n",
    "plt.show()"
   ]
  },
  {
   "cell_type": "code",
   "execution_count": 79,
   "metadata": {},
   "outputs": [
    {
     "data": {
      "image/png": "[encoded data removed]",
      "text/plain": [
       "<Figure size 1152x864 with 1 Axes>"
      ]
     },
     "metadata": {
      "needs_background": "light"
     },
     "output_type": "display_data"
    }
   ],
   "source": [
    "cm = plt.cm.get_cmap('RdYlBu_r')\n",
    "\n",
    "#n, bins, patches = ax.hist(count_age_values, 20, color='green', alpha=0.5, histtype='bar', ec='black')\n",
    "n, bins, patches = ax.hist(count_age_values.index, 127, color='green', alpha=0.5, histtype='bar', ec='black')\n",
    "bin_centers = 0.5 * (bins[:-1] + bins[1:])\n",
    "\n",
    "col = bin_centers - min(bin_centers)\n",
    "col /= max(col)\n",
    "\n",
    "for c, path in zip(col, patches):\n",
    "    plt.setp(path, 'facecolor', cm(c))\n",
    "ax.set_xlabel(\"Age\")\n",
    "ax.set_ylabel(\"Quantity\")\n",
    "ax.set_title(\"Unique ages quantity histogram\")\n",
    "plt.show()"
   ]
  },
  {
   "cell_type": "code",
   "execution_count": 87,
   "metadata": {},
   "outputs": [
    {
     "data": {
      "text/plain": [
       "<matplotlib.collections.PathCollection at 0x7f094b475a58>"
      ]
     },
     "execution_count": 87,
     "metadata": {},
     "output_type": "execute_result"
    },
    {
     "data": {
      "image/png": "[encoded data removed]",
      "text/plain": [
       "<Figure size 1152x864 with 1 Axes>"
      ]
     },
     "metadata": {
      "needs_background": "light"
     },
     "output_type": "display_data"
    }
   ],
   "source": [
    "fig = plt.figure(figsize=(16, 12))\n",
    "ax = fig.add_subplot(111)\n",
    "ax.scatter(count_age_values.index, count_age_values.values)"
   ]
  },
  {
   "cell_type": "markdown",
   "metadata": {},
   "source": [
    "fig_box = plt.figure(figsize=(16, 12))\n",
    "ax_box = fig_box.add_subplot(111)\n",
    "#ax_box.boxplot(users_df['age'].values, 1)\n",
    "ax_box.boxplot(users_df)\n",
    "plt.show()"
   ]
  },
  {
   "cell_type": "markdown",
   "metadata": {},
   "source": [
    "Find a most common age value (mode)"
   ]
  },
  {
   "cell_type": "code",
   "execution_count": 88,
   "metadata": {},
   "outputs": [],
   "source": [
    "age_mode = count_age_values.idxmax()"
   ]
  },
  {
   "cell_type": "code",
   "execution_count": 89,
   "metadata": {},
   "outputs": [
    {
     "data": {
      "text/plain": [
       "30.0"
      ]
     },
     "execution_count": 89,
     "metadata": {},
     "output_type": "execute_result"
    }
   ],
   "source": [
    "age_mode"
   ]
  },
  {
   "cell_type": "markdown",
   "metadata": {},
   "source": [
    "Suppose that all values of age less than 18 and greater than 90 are erroneous\n",
    "(for example, the user made a mistake when entering and entered the current year)\n",
    "Assign to such dates NaN:"
   ]
  },
  {
   "cell_type": "code",
   "execution_count": 90,
   "metadata": {},
   "outputs": [],
   "source": [
    "users_df.loc[users_df['age'] > 90, 'age'] = np.nan\n",
    "users_df.loc[users_df['age'] < 16, 'age'] = np.nan"
   ]
  },
  {
   "cell_type": "markdown",
   "metadata": {},
   "source": [
    "And fill them by age mode"
   ]
  },
  {
   "cell_type": "code",
   "execution_count": 91,
   "metadata": {},
   "outputs": [],
   "source": [
    "users_df.loc[users_df['age'].isnull(), 'age'] = age_mode"
   ]
  },
  {
   "cell_type": "code",
   "execution_count": 92,
   "metadata": {},
   "outputs": [
    {
     "data": {
      "text/plain": [
       "False"
      ]
     },
     "execution_count": 92,
     "metadata": {},
     "output_type": "execute_result"
    }
   ],
   "source": [
    "any(users_df['age'].isnull())"
   ]
  },
  {
   "cell_type": "markdown",
   "metadata": {},
   "source": [
    "Now we need to decide what to do with 'date_first_booking' column. Calculate what percentage of non NaN values:"
   ]
  },
  {
   "cell_type": "code",
   "execution_count": 94,
   "metadata": {},
   "outputs": [
    {
     "name": "stdout",
     "output_type": "stream",
     "text": [
      "41.65265095970504%\n"
     ]
    }
   ],
   "source": [
    "print(\"{}%\".format(users_df[users_df['date_first_booking'].notna()].shape[0] / users_df.shape[0] * 100))"
   ]
  },
  {
   "cell_type": "markdown",
   "metadata": {},
   "source": [
    "Since it contains only  42% not NaN values it seems appropriate to drop this column.\n",
    "Simple strategies - fill in the values with the most common value from the non NaN part,\n",
    "or the average is unlikely to fit here, and more complex ones are unlikely to work. But, anyway, you can try\n",
    "to fill NaN values with values from the non-NaN part with the same frequency distribution as in the non-NaN part.\n",
    "And further, when using for training the model, it will be possible to check both options - with the column droped and with the filled."
   ]
  },
  {
   "cell_type": "code",
   "execution_count": 123,
   "metadata": {},
   "outputs": [],
   "source": [
    "#select rows where 'date_first_booking' column contain NaN\n",
    "date_first_booking_na = users_df.loc[users_df['date_first_booking'].isna(), 'date_first_booking']\n",
    "#Select rows where 'date_first_booking' column not contain NaN\n",
    "date_first_booking_notna = users_df.loc[users_df['date_first_booking'].notna(), 'date_first_booking']\n",
    "#group by date first booking\n",
    "gropuped_date_first_booking_notnan = date_first_booking_notna.groupby(by=users_df['date_first_booking'])\n",
    "#compute quantity of each date value \n",
    "count_gropuped_date_first_booking_notnan = gropuped_date_first_booking_notnan.count()\n",
    "#compute relative frequencies (probabilities) of each value\n",
    "frequencies = count_gropuped_date_first_booking_notnan / count_gropuped_date_first_booking_notnan.sum()\n",
    "#make array that contain fill values with the same relative frequencies in as in 'not NaN' column part\n",
    "date_first_booking_fill_values = np.array(\n",
    "    [np.random.choice(frequencies.index, p=frequencies.values) for _ in range(len(date_first_booking_na))])\n",
    "#fill values\n",
    "users_df.loc[users_df['date_first_booking'].isna(), 'date_first_booking'] = date_first_booking_fill_values"
   ]
  },
  {
   "cell_type": "code",
   "execution_count": 127,
   "metadata": {},
   "outputs": [
    {
     "data": {
      "text/plain": [
       "False"
      ]
     },
     "execution_count": 127,
     "metadata": {},
     "output_type": "execute_result"
    }
   ],
   "source": [
    "any(users_df['date_first_booking'].isna())"
   ]
  },
  {
   "cell_type": "markdown",
   "metadata": {},
   "source": [
    "Now consider the sessions dataset"
   ]
  },
  {
   "cell_type": "code",
   "execution_count": 128,
   "metadata": {},
   "outputs": [
    {
     "name": "stdout",
     "output_type": "stream",
     "text": [
      "<class 'pandas.core.frame.DataFrame'>\n",
      "RangeIndex: 10567737 entries, 0 to 10567736\n",
      "Data columns (total 6 columns):\n",
      "user_id          object\n",
      "action           object\n",
      "action_type      object\n",
      "action_detail    object\n",
      "device_type      object\n",
      "secs_elapsed     float64\n",
      "dtypes: float64(1), object(5)\n",
      "memory usage: 483.8+ MB\n"
     ]
    }
   ],
   "source": [
    "sessions_df.info()"
   ]
  },
  {
   "cell_type": "code",
   "execution_count": 129,
   "metadata": {},
   "outputs": [
    {
     "data": {
      "text/html": [
       "<div>\n",
       "<style scoped>\n",
       "    .dataframe tbody tr th:only-of-type {\n",
       "        vertical-align: middle;\n",
       "    }\n",
       "\n",
       "    .dataframe tbody tr th {\n",
       "        vertical-align: top;\n",
       "    }\n",
       "\n",
       "    .dataframe thead th {\n",
       "        text-align: right;\n",
       "    }\n",
       "</style>\n",
       "<table border=\"1\" class=\"dataframe\">\n",
       "  <thead>\n",
       "    <tr style=\"text-align: right;\">\n",
       "      <th></th>\n",
       "      <th>user_id</th>\n",
       "      <th>action</th>\n",
       "      <th>action_type</th>\n",
       "      <th>action_detail</th>\n",
       "      <th>device_type</th>\n",
       "      <th>secs_elapsed</th>\n",
       "    </tr>\n",
       "  </thead>\n",
       "  <tbody>\n",
       "    <tr>\n",
       "      <th>0</th>\n",
       "      <td>d1mm9tcy42</td>\n",
       "      <td>lookup</td>\n",
       "      <td>NaN</td>\n",
       "      <td>NaN</td>\n",
       "      <td>Windows Desktop</td>\n",
       "      <td>319.0</td>\n",
       "    </tr>\n",
       "    <tr>\n",
       "      <th>1</th>\n",
       "      <td>d1mm9tcy42</td>\n",
       "      <td>search_results</td>\n",
       "      <td>click</td>\n",
       "      <td>view_search_results</td>\n",
       "      <td>Windows Desktop</td>\n",
       "      <td>67753.0</td>\n",
       "    </tr>\n",
       "    <tr>\n",
       "      <th>2</th>\n",
       "      <td>d1mm9tcy42</td>\n",
       "      <td>lookup</td>\n",
       "      <td>NaN</td>\n",
       "      <td>NaN</td>\n",
       "      <td>Windows Desktop</td>\n",
       "      <td>301.0</td>\n",
       "    </tr>\n",
       "    <tr>\n",
       "      <th>3</th>\n",
       "      <td>d1mm9tcy42</td>\n",
       "      <td>search_results</td>\n",
       "      <td>click</td>\n",
       "      <td>view_search_results</td>\n",
       "      <td>Windows Desktop</td>\n",
       "      <td>22141.0</td>\n",
       "    </tr>\n",
       "    <tr>\n",
       "      <th>4</th>\n",
       "      <td>d1mm9tcy42</td>\n",
       "      <td>lookup</td>\n",
       "      <td>NaN</td>\n",
       "      <td>NaN</td>\n",
       "      <td>Windows Desktop</td>\n",
       "      <td>435.0</td>\n",
       "    </tr>\n",
       "  </tbody>\n",
       "</table>\n",
       "</div>"
      ],
      "text/plain": [
       "      user_id          action action_type        action_detail  \\\n",
       "0  d1mm9tcy42          lookup         NaN                  NaN   \n",
       "1  d1mm9tcy42  search_results       click  view_search_results   \n",
       "2  d1mm9tcy42          lookup         NaN                  NaN   \n",
       "3  d1mm9tcy42  search_results       click  view_search_results   \n",
       "4  d1mm9tcy42          lookup         NaN                  NaN   \n",
       "\n",
       "       device_type  secs_elapsed  \n",
       "0  Windows Desktop         319.0  \n",
       "1  Windows Desktop       67753.0  \n",
       "2  Windows Desktop         301.0  \n",
       "3  Windows Desktop       22141.0  \n",
       "4  Windows Desktop         435.0  "
      ]
     },
     "execution_count": 129,
     "metadata": {},
     "output_type": "execute_result"
    }
   ],
   "source": [
    "sessions_df.head()"
   ]
  },
  {
   "cell_type": "code",
   "execution_count": 130,
   "metadata": {},
   "outputs": [
    {
     "data": {
      "text/html": [
       "<div>\n",
       "<style scoped>\n",
       "    .dataframe tbody tr th:only-of-type {\n",
       "        vertical-align: middle;\n",
       "    }\n",
       "\n",
       "    .dataframe tbody tr th {\n",
       "        vertical-align: top;\n",
       "    }\n",
       "\n",
       "    .dataframe thead th {\n",
       "        text-align: right;\n",
       "    }\n",
       "</style>\n",
       "<table border=\"1\" class=\"dataframe\">\n",
       "  <thead>\n",
       "    <tr style=\"text-align: right;\">\n",
       "      <th></th>\n",
       "      <th>secs_elapsed</th>\n",
       "    </tr>\n",
       "  </thead>\n",
       "  <tbody>\n",
       "    <tr>\n",
       "      <th>count</th>\n",
       "      <td>1.043171e+07</td>\n",
       "    </tr>\n",
       "    <tr>\n",
       "      <th>mean</th>\n",
       "      <td>1.940581e+04</td>\n",
       "    </tr>\n",
       "    <tr>\n",
       "      <th>std</th>\n",
       "      <td>8.888424e+04</td>\n",
       "    </tr>\n",
       "    <tr>\n",
       "      <th>min</th>\n",
       "      <td>0.000000e+00</td>\n",
       "    </tr>\n",
       "    <tr>\n",
       "      <th>25%</th>\n",
       "      <td>2.290000e+02</td>\n",
       "    </tr>\n",
       "    <tr>\n",
       "      <th>50%</th>\n",
       "      <td>1.147000e+03</td>\n",
       "    </tr>\n",
       "    <tr>\n",
       "      <th>75%</th>\n",
       "      <td>8.444000e+03</td>\n",
       "    </tr>\n",
       "    <tr>\n",
       "      <th>max</th>\n",
       "      <td>1.799977e+06</td>\n",
       "    </tr>\n",
       "  </tbody>\n",
       "</table>\n",
       "</div>"
      ],
      "text/plain": [
       "       secs_elapsed\n",
       "count  1.043171e+07\n",
       "mean   1.940581e+04\n",
       "std    8.888424e+04\n",
       "min    0.000000e+00\n",
       "25%    2.290000e+02\n",
       "50%    1.147000e+03\n",
       "75%    8.444000e+03\n",
       "max    1.799977e+06"
      ]
     },
     "execution_count": 130,
     "metadata": {},
     "output_type": "execute_result"
    }
   ],
   "source": [
    "sessions_df.describe()"
   ]
  },
  {
   "cell_type": "code",
   "execution_count": 131,
   "metadata": {},
   "outputs": [
    {
     "data": {
      "text/plain": [
       "user_id           0.326428\n",
       "action            0.753482\n",
       "action_type      10.657003\n",
       "action_detail    10.657003\n",
       "device_type       0.000000\n",
       "secs_elapsed      1.287229\n",
       "dtype: float64"
      ]
     },
     "execution_count": 131,
     "metadata": {},
     "output_type": "execute_result"
    }
   ],
   "source": [
    "sessions_df.isna().sum() / len(sessions_df) * 100"
   ]
  },
  {
   "cell_type": "markdown",
   "metadata": {},
   "source": [
    "We can see that all columns, except 'device type', in sessions datasets have NaN values. 'action_type' and 'action_detail'\n",
    "have about 11% NaNs. It seems appropriate to fill such values. And NaN in other columns should also be filled,\n",
    "except 'user_id' column (NaNs in this column look at least strange.).\n",
    "In this case, it is most advisable to delete rows containing NaN values in 'user_id' column,\n",
    "the more so because they are few .\n",
    "But first, let's take a closer look at this column."
   ]
  },
  {
   "cell_type": "code",
   "execution_count": null,
   "metadata": {},
   "outputs": [],
   "source": [
    "for column in sessions_df.columns:\n",
    "    print(\"\\n\\ncolumn: {}:\".format(column))\n",
    "    print(\"-\" * 20)\n",
    "    print(\"value_counts:\\n\", sessions_df[column].value_counts())"
   ]
  },
  {
   "cell_type": "code",
   "execution_count": 145,
   "metadata": {},
   "outputs": [],
   "source": [
    "users_df_unique_user_ids = set(users_df['id'].unique())\n",
    "sessions_df_unique_user_ids = set(sessions_df['user_id'].unique())"
   ]
  },
  {
   "cell_type": "code",
   "execution_count": 146,
   "metadata": {},
   "outputs": [
    {
     "name": "stdout",
     "output_type": "stream",
     "text": [
      "213451\n",
      "135484\n"
     ]
    }
   ],
   "source": [
    "print(len(users_df_unique_user_ids))\n",
    "print(len(sessions_df_unique_user_ids))"
   ]
  },
  {
   "cell_type": "markdown",
   "metadata": {},
   "source": [
    "We can see that the number of unique usrers identifiers is quite different.\n",
    "Calculate numbers of match ids, and and not match ids."
   ]
  },
  {
   "cell_type": "code",
   "execution_count": 148,
   "metadata": {},
   "outputs": [
    {
     "name": "stdout",
     "output_type": "stream",
     "text": [
      "len of intersection: 73815\n",
      "len of difference unique user ids in users_df and sessions_df: 139636\n",
      "len of difference unique user ids in sessions_df and users_df: 61669\n"
     ]
    }
   ],
   "source": [
    "print(\"len of intersection:\", len(users_df_unique_user_ids.intersection(sessions_df_unique_user_ids)))\n",
    "print(\n",
    "    \"len of difference unique user ids in users_df and sessions_df:\",\n",
    "    len(users_df_unique_user_ids.difference(sessions_df_unique_user_ids)))\n",
    "print(\"len of difference unique user ids in sessions_df and users_df:\", len(sessions_df_unique_user_ids.difference(user_df_unique_user_ids)))"
   ]
  },
  {
   "cell_type": "markdown",
   "metadata": {},
   "source": [
    "The most interesting is that in sessions dataset there are identifiers of which are not in users dataset. And number\n",
    "of intersected users ids not very large. But, all the same, it makes sense to use user dataset in combination\n",
    "with sessions dataset."
   ]
  },
  {
   "cell_type": "markdown",
   "metadata": {},
   "source": [
    "Preliminary results:\n",
    "1. We can see that some columns in sessions data and users data have signficant numbers of NaN values.\n",
    "sessions:\n",
    "user_id           0.326428% (which is curious in itself)\n",
    "action            0.753482%\n",
    "action_type      10.657003%\n",
    "action_detail    10.657003%\n",
    "device_type       0.000000%\n",
    "secs_elapsed      1.287229%\n",
    "\n",
    "2. user_id column in sessions data contain 0.326428% NaNs, rows with will be deleted when we  will simultaneously use data from sessions and users datasets (or may be we find the way fill this values).\n",
    "3. Deciding what to do with the NaNs in columns action_type and action_detail (Delete or fill by average, mode or by values that we can retrieve using simple ML models) requires additional exploring.\n",
    "4. NaNs in secs_elapsed in session data we can fill by mean or mode.\n",
    "5. NaNs in first_affiliate_tracked in users data make sense delete or fill by mode.\n",
    "6. NaNs in date_first_booking requires additional eploring. Or delete whole column if additional exploring don't give result.\n",
    "7. Same for age column.\n",
    "8. It is also worth paying attention to the fact that the set of user IDs in sessions dataset and users dataset  do not match, but only intersect in some part of thes. There are users whose IDs are in session dataset  but not in users dataset, which\n",
    "strange.\n",
    "9. It is also worthwhile to look in more detail at the distribution of the number of unique values in each column of each dataset.\n",
    "10. Add columns with timestamps converted in datetime format."
   ]
  },
  {
   "cell_type": "code",
   "execution_count": null,
   "metadata": {},
   "outputs": [],
   "source": [
    "print(sessions_df.shape)"
   ]
  },
  {
   "cell_type": "code",
   "execution_count": 150,
   "metadata": {},
   "outputs": [],
   "source": [
    "action_count = sessions_df['action'].groupby(by=sessions_df['action']).count()"
   ]
  },
  {
   "cell_type": "code",
   "execution_count": 153,
   "metadata": {},
   "outputs": [
    {
     "data": {
      "text/plain": [
       "(359,)"
      ]
     },
     "execution_count": 153,
     "metadata": {},
     "output_type": "execute_result"
    }
   ],
   "source": [
    "action_count.shape"
   ]
  },
  {
   "cell_type": "markdown",
   "metadata": {},
   "source": [
    "Select rows with NaN in 'action' column"
   ]
  },
  {
   "cell_type": "code",
   "execution_count": 154,
   "metadata": {},
   "outputs": [],
   "source": [
    "action_nan = sessions_df[sessions_df['action'].isna()] "
   ]
  },
  {
   "cell_type": "code",
   "execution_count": 159,
   "metadata": {},
   "outputs": [
    {
     "name": "stdout",
     "output_type": "stream",
     "text": [
      "1\n",
      "1\n",
      "13\n",
      "43130\n"
     ]
    }
   ],
   "source": [
    "print(len(action_nan['action_type'].unique()))\n",
    "print(len(action_nan['action_detail'].unique()))\n",
    "print(len(action_nan['device_type'].unique()))\n",
    "print(len(action_nan['user_id'].unique()))"
   ]
  },
  {
   "cell_type": "markdown",
   "metadata": {},
   "source": [
    "Column 'user_id' requires further study, the remaining columns will be investigated in more detail now. We can see that\n",
    " 'action_type' and 'action_detail' columns contain only one value."
   ]
  },
  {
   "cell_type": "code",
   "execution_count": 160,
   "metadata": {},
   "outputs": [
    {
     "name": "stdout",
     "output_type": "stream",
     "text": [
      "['message_post']\n",
      "['message_post']\n",
      "['Windows Desktop' 'iPad Tablet' 'Mac Desktop' 'iPhone' 'Linux Desktop'\n",
      " 'Android App Unknown Phone/Tablet' 'Android Phone' 'Tablet' '-unknown-'\n",
      " 'Chromebook' 'Windows Phone' 'iPodtouch' 'Blackberry']\n"
     ]
    }
   ],
   "source": [
    "print(action_nan['action_type'].unique())\n",
    "print(action_nan['action_detail'].unique())\n",
    "print(action_nan['device_type'].unique())"
   ]
  },
  {
   "cell_type": "markdown",
   "metadata": {},
   "source": [
    "We can see that 'action_type' and 'action_detail' contains the same value: 'message_post' if 'action'\n",
    "contain NaN in that row"
   ]
  },
  {
   "cell_type": "code",
   "execution_count": 162,
   "metadata": {},
   "outputs": [],
   "source": [
    "action_not_na = sessions_df[sessions_df['action'].notna()]"
   ]
  },
  {
   "cell_type": "code",
   "execution_count": 168,
   "metadata": {},
   "outputs": [],
   "source": [
    "action_not_na_uniques = action_not_na['action'].unique()\n",
    "action_type_not_na_uniques = action_not_na['action_type'].unique()\n",
    "action_detail_not_na_uniques = action_not_na['action_detail'].unique()"
   ]
  },
  {
   "cell_type": "code",
   "execution_count": 166,
   "metadata": {},
   "outputs": [
    {
     "data": {
      "text/plain": [
       "numpy.ndarray"
      ]
     },
     "execution_count": 166,
     "metadata": {},
     "output_type": "execute_result"
    }
   ],
   "source": [
    "type(action_not_na_uniques)"
   ]
  },
  {
   "cell_type": "code",
   "execution_count": 169,
   "metadata": {},
   "outputs": [
    {
     "name": "stdout",
     "output_type": "stream",
     "text": [
      "True\n",
      "True\n"
     ]
    }
   ],
   "source": [
    "print('message_post' in action_type_not_na_uniques)\n",
    "print('message_post' in action_detail_not_na_uniques)"
   ]
  },
  {
   "cell_type": "code",
   "execution_count": 175,
   "metadata": {},
   "outputs": [
    {
     "name": "stdout",
     "output_type": "stream",
     "text": [
      "['15' '12' '10' '11' 'multi_message' 'guest_booked_elsewhere'\n",
      " 'preapproval' 'maybe_information' 'special_offer']\n",
      "['15' '12' '10' '11' 'multi_message' 'guest_booked_elsewhere'\n",
      " 'preapproval' 'maybe_information' 'special_offer']\n",
      "\n",
      "True\n"
     ]
    }
   ],
   "source": [
    "print(action_not_na.loc[action_not_na['action_type'] == 'message_post', 'action'].unique())\n",
    "print(action_not_na.loc[action_not_na['action_detail'] == 'message_post', 'action'].unique())\n",
    "print()\n",
    "print(\n",
    "    set(action_not_na[action_not_na['action_type'] == 'message_post'].index) == \n",
    "    set(action_not_na[action_not_na['action_detail'] == 'message_post'].index)\n",
    ")"
   ]
  },
  {
   "cell_type": "markdown",
   "metadata": {},
   "source": [
    "We can see that indexes of rows, where 'action_type' and 'action_detail' columns contains 'message_post' value, match up.\n",
    "Hence we can fill NaNs in 'action' column with values from 'not NaN' part of 'action' column"
   ]
  },
  {
   "cell_type": "code",
   "execution_count": 185,
   "metadata": {},
   "outputs": [],
   "source": [
    "grouped_action_not_na = action_not_na.loc[action_not_na['action_type'] == 'message_post', 'action'].groupby(\n",
    "    by=action_not_na['action_type'])\n",
    "count_action_not_na = grouped_action_not_na.count()\n",
    "frequencies = count_action_not_na / count_action_not_na.sum()\n",
    "action_na_fill_values = np.array(\n",
    "    [np.random.choice(frequencies.index, p=frequencies.values) for _ in range(len(action_nan))])\n",
    "\n",
    "date_first_booking_na = users_df.loc[users_df['date_first_booking'].isna(), 'date_first_booking']\n",
    "date_first_booking_notna = users_df.loc[users_df['date_first_booking'].notna(), 'date_first_booking']\n",
    "gropuped_date_first_booking_notnan = date_first_booking_notna.groupby(by=users_df['date_first_booking'])\n",
    "count_gropuped_date_first_booking_notnan = gropuped_date_first_booking_notnan.count()\n",
    "\n",
    "frequencies = count_gropuped_date_first_booking_notnan / count_gropuped_date_first_booking_notnan.sum()\n",
    "\n",
    "action_fill_values = np.array(\n",
    "    [np.random.choice(frequencies.index, p=frequencies.values) for _ in range(len(action_nan))])\n",
    "sessions_df.loc[sessions_df['action'].isna(), 'action'] = action_fill_values"
   ]
  },
  {
   "cell_type": "code",
   "execution_count": 186,
   "metadata": {},
   "outputs": [
    {
     "data": {
      "text/plain": [
       "False"
      ]
     },
     "execution_count": 186,
     "metadata": {},
     "output_type": "execute_result"
    }
   ],
   "source": [
    "any(sessions_df['action'].isna())"
   ]
  },
  {
   "cell_type": "code",
   "execution_count": null,
   "metadata": {},
   "outputs": [],
   "source": []
  },
  {
   "cell_type": "code",
   "execution_count": null,
   "metadata": {},
   "outputs": [],
   "source": []
  },
  {
   "cell_type": "markdown",
   "metadata": {},
   "source": [
    "Now consider columns 'action_type' and 'action_detail'. They have the same number of NaNs, and we can assume that the indices of the rows in which these values are located match up."
   ]
  },
  {
   "cell_type": "code",
   "execution_count": 190,
   "metadata": {},
   "outputs": [
    {
     "data": {
      "text/plain": [
       "True"
      ]
     },
     "execution_count": 190,
     "metadata": {},
     "output_type": "execute_result"
    }
   ],
   "source": [
    "all(sessions_df[sessions_df['action_type'].isna()].index == sessions_df[sessions_df['action_detail'].isna()].index)"
   ]
  },
  {
   "cell_type": "code",
   "execution_count": null,
   "metadata": {},
   "outputs": [],
   "source": [
    "The rows are the same as we expected. Select rows that contain NaN in 'action_type' and 'action_detail'\n",
    "and rows that not contain."
   ]
  },
  {
   "cell_type": "code",
   "execution_count": 191,
   "metadata": {},
   "outputs": [],
   "source": [
    "act_td_nans_df = sessions_df[sessions_df['action_detail'].isna()]\n",
    "act_td_not_nans_df = sessions_df[sessions_df['action_detail'].notna()]"
   ]
  },
  {
   "cell_type": "code",
   "execution_count": 192,
   "metadata": {},
   "outputs": [
    {
     "data": {
      "text/plain": [
       "(1126204, 6)"
      ]
     },
     "execution_count": 192,
     "metadata": {},
     "output_type": "execute_result"
    }
   ],
   "source": [
    "act_td_nans_df.shape"
   ]
  },
  {
   "cell_type": "code",
   "execution_count": 193,
   "metadata": {},
   "outputs": [
    {
     "data": {
      "text/html": [
       "<div>\n",
       "<style scoped>\n",
       "    .dataframe tbody tr th:only-of-type {\n",
       "        vertical-align: middle;\n",
       "    }\n",
       "\n",
       "    .dataframe tbody tr th {\n",
       "        vertical-align: top;\n",
       "    }\n",
       "\n",
       "    .dataframe thead th {\n",
       "        text-align: right;\n",
       "    }\n",
       "</style>\n",
       "<table border=\"1\" class=\"dataframe\">\n",
       "  <thead>\n",
       "    <tr style=\"text-align: right;\">\n",
       "      <th></th>\n",
       "      <th>user_id</th>\n",
       "      <th>action</th>\n",
       "      <th>action_type</th>\n",
       "      <th>action_detail</th>\n",
       "      <th>device_type</th>\n",
       "      <th>secs_elapsed</th>\n",
       "    </tr>\n",
       "  </thead>\n",
       "  <tbody>\n",
       "    <tr>\n",
       "      <th>0</th>\n",
       "      <td>d1mm9tcy42</td>\n",
       "      <td>lookup</td>\n",
       "      <td>NaN</td>\n",
       "      <td>NaN</td>\n",
       "      <td>Windows Desktop</td>\n",
       "      <td>319.0</td>\n",
       "    </tr>\n",
       "    <tr>\n",
       "      <th>2</th>\n",
       "      <td>d1mm9tcy42</td>\n",
       "      <td>lookup</td>\n",
       "      <td>NaN</td>\n",
       "      <td>NaN</td>\n",
       "      <td>Windows Desktop</td>\n",
       "      <td>301.0</td>\n",
       "    </tr>\n",
       "    <tr>\n",
       "      <th>4</th>\n",
       "      <td>d1mm9tcy42</td>\n",
       "      <td>lookup</td>\n",
       "      <td>NaN</td>\n",
       "      <td>NaN</td>\n",
       "      <td>Windows Desktop</td>\n",
       "      <td>435.0</td>\n",
       "    </tr>\n",
       "    <tr>\n",
       "      <th>6</th>\n",
       "      <td>d1mm9tcy42</td>\n",
       "      <td>lookup</td>\n",
       "      <td>NaN</td>\n",
       "      <td>NaN</td>\n",
       "      <td>Windows Desktop</td>\n",
       "      <td>115.0</td>\n",
       "    </tr>\n",
       "    <tr>\n",
       "      <th>9</th>\n",
       "      <td>d1mm9tcy42</td>\n",
       "      <td>lookup</td>\n",
       "      <td>NaN</td>\n",
       "      <td>NaN</td>\n",
       "      <td>Windows Desktop</td>\n",
       "      <td>683.0</td>\n",
       "    </tr>\n",
       "  </tbody>\n",
       "</table>\n",
       "</div>"
      ],
      "text/plain": [
       "      user_id  action action_type action_detail      device_type  secs_elapsed\n",
       "0  d1mm9tcy42  lookup         NaN           NaN  Windows Desktop         319.0\n",
       "2  d1mm9tcy42  lookup         NaN           NaN  Windows Desktop         301.0\n",
       "4  d1mm9tcy42  lookup         NaN           NaN  Windows Desktop         435.0\n",
       "6  d1mm9tcy42  lookup         NaN           NaN  Windows Desktop         115.0\n",
       "9  d1mm9tcy42  lookup         NaN           NaN  Windows Desktop         683.0"
      ]
     },
     "execution_count": 193,
     "metadata": {},
     "output_type": "execute_result"
    }
   ],
   "source": [
    "act_td_nans_df.head()"
   ]
  },
  {
   "cell_type": "code",
   "execution_count": 194,
   "metadata": {},
   "outputs": [
    {
     "data": {
      "text/plain": [
       "(9441533, 6)"
      ]
     },
     "execution_count": 194,
     "metadata": {},
     "output_type": "execute_result"
    }
   ],
   "source": [
    "act_td_not_nans_df.shape"
   ]
  },
  {
   "cell_type": "code",
   "execution_count": 195,
   "metadata": {},
   "outputs": [
    {
     "data": {
      "text/html": [
       "<div>\n",
       "<style scoped>\n",
       "    .dataframe tbody tr th:only-of-type {\n",
       "        vertical-align: middle;\n",
       "    }\n",
       "\n",
       "    .dataframe tbody tr th {\n",
       "        vertical-align: top;\n",
       "    }\n",
       "\n",
       "    .dataframe thead th {\n",
       "        text-align: right;\n",
       "    }\n",
       "</style>\n",
       "<table border=\"1\" class=\"dataframe\">\n",
       "  <thead>\n",
       "    <tr style=\"text-align: right;\">\n",
       "      <th></th>\n",
       "      <th>user_id</th>\n",
       "      <th>action</th>\n",
       "      <th>action_type</th>\n",
       "      <th>action_detail</th>\n",
       "      <th>device_type</th>\n",
       "      <th>secs_elapsed</th>\n",
       "    </tr>\n",
       "  </thead>\n",
       "  <tbody>\n",
       "    <tr>\n",
       "      <th>1</th>\n",
       "      <td>d1mm9tcy42</td>\n",
       "      <td>search_results</td>\n",
       "      <td>click</td>\n",
       "      <td>view_search_results</td>\n",
       "      <td>Windows Desktop</td>\n",
       "      <td>67753.0</td>\n",
       "    </tr>\n",
       "    <tr>\n",
       "      <th>3</th>\n",
       "      <td>d1mm9tcy42</td>\n",
       "      <td>search_results</td>\n",
       "      <td>click</td>\n",
       "      <td>view_search_results</td>\n",
       "      <td>Windows Desktop</td>\n",
       "      <td>22141.0</td>\n",
       "    </tr>\n",
       "    <tr>\n",
       "      <th>5</th>\n",
       "      <td>d1mm9tcy42</td>\n",
       "      <td>search_results</td>\n",
       "      <td>click</td>\n",
       "      <td>view_search_results</td>\n",
       "      <td>Windows Desktop</td>\n",
       "      <td>7703.0</td>\n",
       "    </tr>\n",
       "    <tr>\n",
       "      <th>7</th>\n",
       "      <td>d1mm9tcy42</td>\n",
       "      <td>personalize</td>\n",
       "      <td>data</td>\n",
       "      <td>wishlist_content_update</td>\n",
       "      <td>Windows Desktop</td>\n",
       "      <td>831.0</td>\n",
       "    </tr>\n",
       "    <tr>\n",
       "      <th>8</th>\n",
       "      <td>d1mm9tcy42</td>\n",
       "      <td>index</td>\n",
       "      <td>view</td>\n",
       "      <td>view_search_results</td>\n",
       "      <td>Windows Desktop</td>\n",
       "      <td>20842.0</td>\n",
       "    </tr>\n",
       "  </tbody>\n",
       "</table>\n",
       "</div>"
      ],
      "text/plain": [
       "      user_id          action action_type            action_detail  \\\n",
       "1  d1mm9tcy42  search_results       click      view_search_results   \n",
       "3  d1mm9tcy42  search_results       click      view_search_results   \n",
       "5  d1mm9tcy42  search_results       click      view_search_results   \n",
       "7  d1mm9tcy42     personalize        data  wishlist_content_update   \n",
       "8  d1mm9tcy42           index        view      view_search_results   \n",
       "\n",
       "       device_type  secs_elapsed  \n",
       "1  Windows Desktop       67753.0  \n",
       "3  Windows Desktop       22141.0  \n",
       "5  Windows Desktop        7703.0  \n",
       "7  Windows Desktop         831.0  \n",
       "8  Windows Desktop       20842.0  "
      ]
     },
     "execution_count": 195,
     "metadata": {},
     "output_type": "execute_result"
    }
   ],
   "source": [
    "act_td_not_nans_df.head()"
   ]
  },
  {
   "cell_type": "markdown",
   "metadata": {},
   "source": [
    "For a more detailed study of the relationships of columns 'action_type' and 'action_detail'\n",
    "with other columns, we use the uniques_count function defined above, which makes a dictionary of dataframes\n",
    "containing unique values of column and number of each value"
   ]
  },
  {
   "cell_type": "code",
   "execution_count": 196,
   "metadata": {},
   "outputs": [],
   "source": [
    "act_td_nans_uniques_count = uniques_count(act_td_nans_df)"
   ]
  },
  {
   "cell_type": "code",
   "execution_count": 197,
   "metadata": {},
   "outputs": [],
   "source": [
    "act_td_not_nans_uniques_count = uniques_count(act_td_not_nans_df)"
   ]
  },
  {
   "cell_type": "markdown",
   "metadata": {},
   "source": [
    "We will not explore column 'user_id' - it contains too many unique values."
   ]
  },
  {
   "cell_type": "markdown",
   "metadata": {},
   "source": [
    "user_id_nans = act_det_nans_values_count['user_id']"
   ]
  },
  {
   "cell_type": "markdown",
   "metadata": {},
   "source": [
    "user_id_not_nans = act_det_not_nans_values_count['user_id']"
   ]
  },
  {
   "cell_type": "markdown",
   "metadata": {},
   "source": [
    "user_id_nans_set = set(user_id_nans.index)\n",
    "user_id_not_nans_set = set(user_id_not_nans.index)"
   ]
  },
  {
   "cell_type": "markdown",
   "metadata": {},
   "source": [
    "print(len(user_id_nans_set), len(user_id_not_nans), len(user_id_nans_set.intersection(user_id_not_nans_set)))"
   ]
  },
  {
   "cell_type": "markdown",
   "metadata": {},
   "source": [
    "user_id_nans_only_set = user_id_nans_set.difference(user_id_not_nans_set)"
   ]
  },
  {
   "cell_type": "markdown",
   "metadata": {},
   "source": [
    "len(user_id_nans_only_set)"
   ]
  },
  {
   "cell_type": "markdown",
   "metadata": {},
   "source": [
    "user_id_nans_only_set"
   ]
  },
  {
   "cell_type": "markdown",
   "metadata": {},
   "source": [
    "user_id_nans.index"
   ]
  },
  {
   "cell_type": "markdown",
   "metadata": {},
   "source": [
    "for index in user_id_nans_only_set:\n",
    "    print(user_id_nans[index])"
   ]
  },
  {
   "cell_type": "code",
   "execution_count": null,
   "metadata": {},
   "outputs": [],
   "source": [
    "#user_id_nans['16o67suu17']"
   ]
  },
  {
   "cell_type": "markdown",
   "metadata": {},
   "source": [
    "Consider columns 'action_type', 'action_detail' itself"
   ]
  },
  {
   "cell_type": "markdown",
   "metadata": {},
   "source": [
    "action_td_nans_uniques_count =  act_td_nans_uniques_count['action']"
   ]
  },
  {
   "cell_type": "markdown",
   "metadata": {},
   "source": [
    "len(action_td_nans_uniques_count)"
   ]
  },
  {
   "cell_type": "markdown",
   "metadata": {},
   "source": [
    "action_td_not_nans_uniques_count = act_td_not_nans_uniques_count['action']"
   ]
  },
  {
   "cell_type": "markdown",
   "metadata": {},
   "source": [
    "len(action_td_not_nans_uniques_count)"
   ]
  },
  {
   "cell_type": "markdown",
   "metadata": {},
   "source": [
    "devicet_td_nans_uniques_count = act_td_nans_uniques_count['device_type']\n",
    "devicet_td_not_nans_uniques_count = act_det_not_nans_values_count['device_type']"
   ]
  },
  {
   "cell_type": "code",
   "execution_count": 210,
   "metadata": {},
   "outputs": [],
   "source": [
    "#actiont_td_nans_uniques_count = act_td_nans_uniques_count['action_type']\n",
    "actiont_td_not_nans_uniques_count = act_td_not_nans_uniques_count['action_type']"
   ]
  },
  {
   "cell_type": "code",
   "execution_count": 211,
   "metadata": {},
   "outputs": [
    {
     "name": "stdout",
     "output_type": "stream",
     "text": [
      "10\n"
     ]
    }
   ],
   "source": [
    "#print(len(actiont_td_nans_uniques_count))\n",
    "print(len(actiont_td_not_nans_uniques_count))"
   ]
  },
  {
   "cell_type": "code",
   "execution_count": 212,
   "metadata": {},
   "outputs": [],
   "source": [
    "#actiond_td_nans_uniques_count = act_td_nans_uniques_count['action_detail']\n",
    "actiond_td_not_nans_uniques_count = act_td_not_nans_uniques_count['action_detail']"
   ]
  },
  {
   "cell_type": "code",
   "execution_count": 213,
   "metadata": {},
   "outputs": [
    {
     "name": "stdout",
     "output_type": "stream",
     "text": [
      "155\n"
     ]
    }
   ],
   "source": [
    "#print(len(actiond_td_nans_uniques_count))\n",
    "print(len(actiond_td_not_nans_uniques_count))"
   ]
  },
  {
   "cell_type": "code",
   "execution_count": null,
   "metadata": {},
   "outputs": [],
   "source": []
  },
  {
   "cell_type": "code",
   "execution_count": null,
   "metadata": {},
   "outputs": [],
   "source": []
  },
  {
   "cell_type": "markdown",
   "metadata": {},
   "source": [
    "print(len(act_det_nans_device_type))\n",
    "print(len(act_det_not_nans_device_type))"
   ]
  },
  {
   "cell_type": "markdown",
   "metadata": {},
   "source": [
    "for column in act_det_nans_values_count.keys():\n",
    "    print(\"\\n\\n\", column)\n",
    "    print(\"-\" * 30)\n",
    "    print(len(act_det_nans_values_count[column]))\n",
    "    print(len(act_det_not_nans_values_count[column]))"
   ]
  },
  {
   "cell_type": "code",
   "execution_count": null,
   "metadata": {},
   "outputs": [],
   "source": [
    "action_act_det_nans_set = set(act_det_nans_values_count['action'].index)\n",
    "action_act_det_not_nans_set = set(act_det_not_nans_values_count['action'].index)"
   ]
  },
  {
   "cell_type": "code",
   "execution_count": null,
   "metadata": {},
   "outputs": [],
   "source": [
    "len(action_act_det_nans_set.union(action_act_det_not_nans_set))"
   ]
  },
  {
   "cell_type": "code",
   "execution_count": null,
   "metadata": {},
   "outputs": [],
   "source": [
    "intersected_actions = action_act_det_nans_set.intersection(action_act_det_not_nans_set)\n",
    "only_nans_actions = action_act_det_nans_set.difference(action_act_det_not_nans_set)"
   ]
  },
  {
   "cell_type": "code",
   "execution_count": null,
   "metadata": {},
   "outputs": [],
   "source": [
    "print(intersected_actions)\n",
    "print(only_nans_actions)"
   ]
  },
  {
   "cell_type": "code",
   "execution_count": null,
   "metadata": {},
   "outputs": [],
   "source": [
    "#act_det_nans_action[act_det_nans_action.isin(intersected_actions)]"
   ]
  },
  {
   "cell_type": "code",
   "execution_count": null,
   "metadata": {},
   "outputs": [],
   "source": [
    "#act_det_nans_action[act_det_nans_action.isin(only_nans_actions)]"
   ]
  },
  {
   "cell_type": "code",
   "execution_count": null,
   "metadata": {},
   "outputs": [],
   "source": [
    "act_det_nans_action[intersected_actions]"
   ]
  },
  {
   "cell_type": "code",
   "execution_count": null,
   "metadata": {},
   "outputs": [],
   "source": [
    "act_det_nans_action[only_nans_actions]"
   ]
  },
  {
   "cell_type": "code",
   "execution_count": null,
   "metadata": {},
   "outputs": [],
   "source": [
    "act_det_not_nans_action[intersected_actions]"
   ]
  },
  {
   "cell_type": "code",
   "execution_count": null,
   "metadata": {},
   "outputs": [],
   "source": [
    "#act_det_not_nans_action[only_nans_actions]"
   ]
  },
  {
   "cell_type": "code",
   "execution_count": null,
   "metadata": {},
   "outputs": [],
   "source": [
    "for act in intersected_actions:\n",
    "    print(\"\\n\\n\", act)\n",
    "    print(\"*\" * 30)\n",
    "    print(\"act_det_nans_action[{}]:\".format(act), act_det_nans_action[act])\n",
    "    print(\"percent:\", act_det_nans_action[act] / act_det_nans_action.sum() * 100)\n",
    "    print(\"act_det_not_nans_action[{}]:\".format(act), act_det_not_nans_action[act])\n",
    "    print(\"percent:\", act_det_not_nans_action[act] / act_det_not_nans_action.sum() * 100)"
   ]
  },
  {
   "cell_type": "markdown",
   "metadata": {},
   "source": [
    "for act in only_nans_actions:\n",
    "    print(\"\\n\\n\", act)\n",
    "    print(\"*\" * 30)\n",
    "    print(\"act_det_nans_action[{}]:\".format(act), act_det_nans_action[act])\n",
    "    print(\"percent:\", act_det_nans_action[act] / act_det_nans_action.sum() * 100)\n",
    "    #print(\"act_det_not_nans_action[{}]:\".format(act), act_det_not_nans_action[act])\n",
    "    #print(\"percent:\", act_det_not_nans_action[act] / act_det_not_nans_action.sum() * 100)"
   ]
  },
  {
   "cell_type": "markdown",
   "metadata": {},
   "source": [
    "This is make sense drop all rows that in 'action' column have one of the values that contains in only_nans_actions set\n",
    "In rows that contains in 'action' column values from intersected_actions set we can substitude (in columns 'action_type' and 'action_detail' values from rows with same value in 'action' (but not have NaNs in 'action_type' and 'action_detail')"
   ]
  },
  {
   "cell_type": "code",
   "execution_count": null,
   "metadata": {},
   "outputs": [],
   "source": [
    "act_det_not_nans_action['localization_settings']"
   ]
  },
  {
   "cell_type": "code",
   "execution_count": null,
   "metadata": {},
   "outputs": [],
   "source": [
    "type(act_det_not_nans_action)"
   ]
  },
  {
   "cell_type": "code",
   "execution_count": null,
   "metadata": {},
   "outputs": [],
   "source": [
    "act_det_not_nans_df[act_det_not_nans_df['action'] == 'localization_settings']"
   ]
  },
  {
   "cell_type": "code",
   "execution_count": null,
   "metadata": {},
   "outputs": [],
   "source": [
    "#act_det_not_nans_df[act_det_not_nans_df['action'] == 'show']"
   ]
  },
  {
   "cell_type": "code",
   "execution_count": null,
   "metadata": {},
   "outputs": [],
   "source": [
    "act_show_not_nans_df = act_det_not_nans_df[act_det_not_nans_df['action'] == 'show']"
   ]
  },
  {
   "cell_type": "code",
   "execution_count": null,
   "metadata": {},
   "outputs": [],
   "source": [
    "#act_show_not_nans_df['action_type'].groupby(by=act_show_not_nans_df['action_type']).count()"
   ]
  },
  {
   "cell_type": "code",
   "execution_count": null,
   "metadata": {},
   "outputs": [],
   "source": [
    "#act_show_not_nans_df['action_detail'].groupby(by=act_show_not_nans_df['action_detail']).count()"
   ]
  },
  {
   "cell_type": "code",
   "execution_count": null,
   "metadata": {},
   "outputs": [],
   "source": [
    "for act in intersected_actions:\n",
    "    print(\"\\n\\n\", act)\n",
    "    print(\"*\" * 30)\n",
    "    print(\"act_det_nans_action[{}]:\".format(act), act_det_nans_action[act])\n",
    "    print(\"percent:\", act_det_nans_action[act] / act_det_nans_action.sum() * 100)\n",
    "    print(\"act_det_not_nans_action[{}]:\".format(act), act_det_not_nans_action[act])\n",
    "    print(\"percent:\", act_det_not_nans_action[act] / act_det_not_nans_action.sum() * 100)    \n",
    "    #print(\"\\n\\n\\naction value:\", act)\n",
    "    #print(\"*\" * 30)\n",
    "    print()\n",
    "    act_type_df = act_det_not_nans_df[act_det_not_nans_df['action'] == act]\n",
    "    act_type = act_type_df['action_type'].groupby(by=act_type_df['action_type'])\n",
    "    act_type_count = act_type.count()\n",
    "    print(\"count:\\n\", act_type_count)\n",
    "    print(\"proportion:\\n\", act_type_count / act_type_count.sum())\n",
    "    print()\n",
    "    act_det = act_type_df['action_detail'].groupby(by=act_type_df['action_detail'])\n",
    "    act_det_count = act_det.count()\n",
    "    print(\"count:\\n\", act_det_count)\n",
    "    print(\"proportion:\\n\", act_det_count / act_det_count.sum())"
   ]
  },
  {
   "cell_type": "markdown",
   "metadata": {},
   "source": [
    "Using this information we can fill NaNs in 'action_type' and 'action_detail' columns with distribution close to distribution\n",
    "corresponding values in not NaNs part. If action = 'currencies' me set '-unknown-' in both action_type and action_detail columns (or may be simply drop rows that have 'currencies' in action, since there are few such rows). If action = 'localization_settings' me set '-unknown-' in both action_type and action_detail columns. We can't drop these rows as there are many such rows. The same for 'campaigns' in 'action'. And write function that fill NaNs for other actions corresponding to probabilities in not NaNs part."
   ]
  },
  {
   "cell_type": "code",
   "execution_count": null,
   "metadata": {},
   "outputs": [],
   "source": [
    "def fill_action_nans(actions, session_df, act_not_nans_df):\n",
    "    for act in actions:\n",
    "        act_df = act_not_nans_df[act_not_nans_df['action'] == act]\n",
    "        act_type = act_df['action_type'].groupby(by=act_df['action_type'])\n",
    "        act_type_count = act_type.count()\n",
    "        \n",
    "        act_type_proportions =  act_type_count / act_type_count.sum()\n",
    "\n",
    "        act_det = act_df['action_detail'].groupby(by=act_df['action_detail'])\n",
    "        act_det_count = act_det.count()\n",
    "        \n",
    "        act_detail_proportions = act_det_count / act_det_count.sum()\n",
    "        \n",
    "        act_nans_df = sessions_df.loc[sessions_df['action_type'].isna() & (sessions_df['action'] == act)]\n",
    "        \n",
    "        act_nans_len = len(act_nans_df[act_nans_df['action'] == act])\n",
    "\n",
    "        act_type_fill_values = np.array(\n",
    "            [np.random.choice(act_type_count.index, p=act_type_proportions.values) for _ in range(act_nans_len)])\n",
    "        act_detail_fill_values = np.array(\n",
    "            [np.random.choice(act_det_count.index, p=act_detail_proportions.values) for _ in range(act_nans_len)])\n",
    "        #print(len(act_nans_df.loc[act_nans_df['action'] == act, 'action_type']))\n",
    "        #print(len(act_type_fill_values))\n",
    "        \n",
    "        \n",
    "        act_nans_df.loc[:, 'action_type'] = act_type_fill_values\n",
    "        act_nans_df.loc[:, 'action_detail'] = act_detail_fill_values\n",
    "        #print(act_nans_df.loc[act_nans_df['action'] == act, 'action_type'])\n",
    "    return sessions_df"
   ]
  },
  {
   "cell_type": "code",
   "execution_count": null,
   "metadata": {},
   "outputs": [],
   "source": [
    "act_det_nans_action_copy = act_det_nans_action.copy()"
   ]
  },
  {
   "cell_type": "code",
   "execution_count": null,
   "metadata": {},
   "outputs": [],
   "source": [
    "filled_nans_df = fill_action_nans(['update', 'show', 'index'], sessions_df.copy(), act_det_not_nans_df)"
   ]
  },
  {
   "cell_type": "code",
   "execution_count": null,
   "metadata": {},
   "outputs": [],
   "source": [
    "act_det_not_nans_action.head()"
   ]
  },
  {
   "cell_type": "code",
   "execution_count": null,
   "metadata": {},
   "outputs": [],
   "source": [
    "filled_nans_df.loc[filled_nans_df['action'] == 'show', 'action_detail']"
   ]
  },
  {
   "cell_type": "code",
   "execution_count": null,
   "metadata": {},
   "outputs": [],
   "source": [
    "len(sessions_df.loc[sessions_df['action_type'].isna() & (sessions_df['action'] == 'show')])"
   ]
  },
  {
   "cell_type": "code",
   "execution_count": null,
   "metadata": {},
   "outputs": [],
   "source": [
    "is_na_sessions_df = sessions_df[sessions_df['action_type'].isna()]"
   ]
  },
  {
   "cell_type": "code",
   "execution_count": null,
   "metadata": {},
   "outputs": [],
   "source": [
    "is_na_sessions_df.head()"
   ]
  },
  {
   "cell_type": "code",
   "execution_count": null,
   "metadata": {},
   "outputs": [],
   "source": [
    "sessions_df.shape"
   ]
  },
  {
   "cell_type": "code",
   "execution_count": null,
   "metadata": {},
   "outputs": [],
   "source": [
    "is_na_sessions_df.shape"
   ]
  },
  {
   "cell_type": "code",
   "execution_count": null,
   "metadata": {},
   "outputs": [],
   "source": [
    "not_na_sessions_df = sessions_df[sessions_df['action_type'].notna()]"
   ]
  },
  {
   "cell_type": "code",
   "execution_count": null,
   "metadata": {},
   "outputs": [],
   "source": [
    "not_na_sessions_df.shape"
   ]
  },
  {
   "cell_type": "code",
   "execution_count": null,
   "metadata": {},
   "outputs": [],
   "source": [
    "sessions_df.shape[0] == is_na_sessions_df.shape[0] + not_na_sessions_df.shape[0]"
   ]
  },
  {
   "cell_type": "code",
   "execution_count": null,
   "metadata": {},
   "outputs": [],
   "source": [
    "def fill_action_nans(actions, session_df):\n",
    "    is_na_df = sessions_df[sessions_df['action_type'].isna()]\n",
    "    not_na_df = sessions_df[sessions_df['action_type'].notna()]\n",
    "    \n",
    "    for act in actions:\n",
    "\n",
    "        act_df = not_na_df[not_na_df['action'] == act]\n",
    "        act_type = act_df['action_type'].groupby(by=act_df['action_type'])\n",
    "        act_type_count = act_type.count()\n",
    "        \n",
    "        act_type_proportions =  act_type_count / act_type_count.sum()\n",
    "        act_det = act_df['action_detail'].groupby(by=act_df['action_detail'])\n",
    "        act_det_count = act_det.count()\n",
    "        act_detail_proportions = act_det_count / act_det_count.sum()        \n",
    "        act_is_na_df = is_na_df[is_na_df['action'] == act]\n",
    "        \n",
    "        act_is_na_len = len(act_is_na_df)\n",
    "\n",
    "        act_type_fill_values = np.array(\n",
    "            [np.random.choice(act_type_count.index, p=act_type_proportions.values) for _ in range(act_is_na_len)])\n",
    "        act_detail_fill_values = np.array(\n",
    "            [np.random.choice(act_det_count.index, p=act_detail_proportions.values) for _ in range(act_is_na_len)])\n",
    "\n",
    "        sessions_df.loc[sessions_df['action_type'].isna() & (sessions_df['action'] == act), 'action_type'] = act_type_fill_values\n",
    "        sessions_df.loc[sessions_df['action_detail'].isna() & (sessions_df['action'] == act), 'action_detail'] = act_detail_fill_values\n",
    "    return sessions_df"
   ]
  },
  {
   "cell_type": "code",
   "execution_count": null,
   "metadata": {},
   "outputs": [],
   "source": [
    "filled_nans_df = fill_action_nans(['update', 'show', 'index'], sessions_df.copy())"
   ]
  },
  {
   "cell_type": "code",
   "execution_count": null,
   "metadata": {},
   "outputs": [],
   "source": [
    "#len( filled_nans_df[filled_nans_df.loc[filled_nans_df['action'] == 'show', 'action_detail'].isna()])"
   ]
  },
  {
   "cell_type": "code",
   "execution_count": null,
   "metadata": {},
   "outputs": [],
   "source": [
    "len(filled_nans_df.loc[filled_nans_df['action'] == 'show', 'action_detail'].notna())"
   ]
  },
  {
   "cell_type": "code",
   "execution_count": null,
   "metadata": {},
   "outputs": [],
   "source": [
    "is_na_action_detail_sessions_df = not_na_sessions_df[not_na_sessions_df['action_detail'].isna()]"
   ]
  },
  {
   "cell_type": "code",
   "execution_count": null,
   "metadata": {},
   "outputs": [],
   "source": [
    "is_na_action_detail_sessions_df.head()"
   ]
  },
  {
   "cell_type": "code",
   "execution_count": null,
   "metadata": {},
   "outputs": [],
   "source": [
    "filled_nans_df[filled_nans_df['action_type'].isna()].shape"
   ]
  },
  {
   "cell_type": "code",
   "execution_count": null,
   "metadata": {},
   "outputs": [],
   "source": [
    "filled_nans_df.shape"
   ]
  },
  {
   "cell_type": "code",
   "execution_count": null,
   "metadata": {},
   "outputs": [],
   "source": [
    "sessions_df[sessions_df['action_type'].isna()].shape"
   ]
  },
  {
   "cell_type": "code",
   "execution_count": null,
   "metadata": {},
   "outputs": [],
   "source": [
    "sessions_df.shape"
   ]
  },
  {
   "cell_type": "code",
   "execution_count": null,
   "metadata": {},
   "outputs": [],
   "source": [
    "filled_nans_df.head()"
   ]
  },
  {
   "cell_type": "code",
   "execution_count": null,
   "metadata": {},
   "outputs": [],
   "source": [
    "filled_nans_df[filled_nans_df['action'] == 'show'].head()"
   ]
  },
  {
   "cell_type": "code",
   "execution_count": null,
   "metadata": {},
   "outputs": [],
   "source": [
    "any(filled_nans_df.loc[filled_nans_df['action'] == 'show', 'action_type'].isna())"
   ]
  },
  {
   "cell_type": "code",
   "execution_count": null,
   "metadata": {},
   "outputs": [],
   "source": [
    "any(filled_nans_df.loc[filled_nans_df['action'] == 'show', 'action_detail'].isna())"
   ]
  },
  {
   "cell_type": "code",
   "execution_count": null,
   "metadata": {},
   "outputs": [],
   "source": [
    "any(filled_nans_df.loc[filled_nans_df['action'] == 'index', 'action_detail'].isna())"
   ]
  },
  {
   "cell_type": "code",
   "execution_count": null,
   "metadata": {},
   "outputs": [],
   "source": [
    "any(filled_nans_df.loc[filled_nans_df['action'] == 'update', 'action_detail'].isna())"
   ]
  },
  {
   "cell_type": "code",
   "execution_count": null,
   "metadata": {},
   "outputs": [],
   "source": []
  }
 ],
 "metadata": {
  "kernelspec": {
   "display_name": "Python 3",
   "language": "python",
   "name": "python3"
  },
  "language_info": {
   "codemirror_mode": {
    "name": "ipython",
    "version": 3
   },
   "file_extension": ".py",
   "mimetype": "text/x-python",
   "name": "python",
   "nbconvert_exporter": "python",
   "pygments_lexer": "ipython3",
   "version": "3.6.6"
  }
 },
 "nbformat": 4,
 "nbformat_minor": 2
}
